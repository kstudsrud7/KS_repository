{
 "cells": [
  {
   "cell_type": "markdown",
   "metadata": {},
   "source": [
    "# Installation Instructions\n",
    "Step 1 [Install Power Platform CLI using Windows MSI](https://learn.microsoft.com/en-us/power-platform/developer/howto/install-cli-msi)\n",
    "\n",
    "    string name = \"keaton\""
   ]
  },
  {
   "cell_type": "code",
   "execution_count": 1,
   "metadata": {
    "dotnet_interactive": {
     "language": "pwsh"
    },
    "polyglot_notebook": {
     "kernelName": "pwsh"
    },
    "vscode": {
     "languageId": "polyglot-notebook"
    }
   },
   "outputs": [],
   "source": [
    "$filepath = \"C:\\Users\\kstudsrud\\AppData\\Local\\Microsoft\\PowerAppsCLI\\pac.cmd\"\n",
    "# Here we are defining the path where CLI is installed on laptop with a PowerShell variable"
   ]
  },
  {
   "cell_type": "code",
   "execution_count": 2,
   "metadata": {
    "dotnet_interactive": {
     "language": "pwsh"
    },
    "polyglot_notebook": {
     "kernelName": "pwsh"
    },
    "vscode": {
     "languageId": "polyglot-notebook"
    }
   },
   "outputs": [
    {
     "name": "stdout",
     "output_type": "stream",
     "text": [
      "Index Active Kind      Name User                                        Cloud  Type            Environment            Environment Url\n",
      "[1]          UNIVERSAL      kstudsrud@arcticit.com                      Public OperatingSystem                        \n",
      "[2]          UNIVERSAL      admin@CRM410826.onmicrosoft.com             Public User                                   \n",
      "[3]   *      DATAVERSE      admin@CRM410826.onmicrosoft.com             Public User            CRM410826              https://orgc9602237.crm.dynamics.com/\n",
      "[4]          UNIVERSAL      rroberts@ydsp-nsn.gov                       Public User                                   \n",
      "[5]          UNIVERSAL      rroberts@ydsp-nsn.gov                       UsGov  User            YDSP TP Dev            https://ydsptpdev.crm9.dynamics.com/\n",
      "[6]          UNIVERSAL      admin@stokesoftwaresolutions.com            Public User                                   \n",
      "[7]          UNIVERSAL      admin@stokesoftwaresolutions.com            Public User            Portal DEV             https://portaldevks.crm.dynamics.com/\n",
      "[8]          UNIVERSAL      aitadmin@MPTNAIT.onmicrosoft.com            Public User                                   \n",
      "[9]          UNIVERSAL      kstudsrud@stokesoftwaresolutions.com        Public User                                   \n",
      "[10]         UNIVERSAL      kstudsrud@aitrmmdev.onmicrosoft.com         Public User            AIT RMM Dev (default)  https://org7ae49187.crm.dynamics.com/\n",
      "[11]         UNIVERSAL      aitadmin@MPTNAIT.onmicrosoft.com            UsGov  User            DEV - Tribal Platforms https://mptndev.crm9.dynamics.com/\n",
      "[12]  *      UNIVERSAL      D365Admin@SynergyImports360.onmicrosoft.com Public User                                   \n",
      "\n"
     ]
    }
   ],
   "source": [
    "# Retrieving all of your Authorizing profiles, should have 1 for each customer / project\n",
    "& $filepath auth list\n"
   ]
  },
  {
   "cell_type": "code",
   "execution_count": 3,
   "metadata": {
    "dotnet_interactive": {
     "language": "pwsh"
    },
    "polyglot_notebook": {
     "kernelName": "pwsh"
    },
    "vscode": {
     "languageId": "polyglot-notebook"
    }
   },
   "outputs": [
    {
     "name": "stdout",
     "output_type": "stream",
     "text": [
      "New default profile:\n",
      "    * UNIVERSAL                                : D365Admin@SynergyImports360.onmicrosoft.com Public                                         \n",
      "\n"
     ]
    }
   ],
   "source": [
    "#selection of the Auth profile / tenant that will be used for provisioing\n",
    "& $filepath auth select --index 12\n"
   ]
  },
  {
   "cell_type": "markdown",
   "metadata": {},
   "source": [
    "## Create Auth Profile"
   ]
  },
  {
   "cell_type": "code",
   "execution_count": 2,
   "metadata": {
    "dotnet_interactive": {
     "language": "pwsh"
    },
    "polyglot_notebook": {
     "kernelName": "pwsh"
    },
    "vscode": {
     "languageId": "polyglot-notebook"
    }
   },
   "outputs": [
    {
     "name": "stdout",
     "output_type": "stream",
     "text": [
      "'D365Admin@SynergyImports360.onmicrosoft.com' authenticated successfully.\n",
      "Authentication profile created\n",
      "    * UNIVERSAL                                : D365Admin@SynergyImports360.onmicrosoft.com Public                                         \n",
      "\n"
     ]
    }
   ],
   "source": [
    "# Retrieving all of your Authorizing profiles, should have 1 for each customer / project\n",
    "& $filepath auth create"
   ]
  },
  {
   "cell_type": "markdown",
   "metadata": {},
   "source": [
    "# Create Power Apps Environments (Dev,Test, Prod)\n",
    "## Define Environment Details\n",
    "1. "
   ]
  },
  {
   "cell_type": "code",
   "execution_count": 12,
   "metadata": {
    "dotnet_interactive": {
     "language": "pwsh"
    },
    "polyglot_notebook": {
     "kernelName": "pwsh"
    },
    "vscode": {
     "languageId": "polyglot-notebook"
    }
   },
   "outputs": [],
   "source": [
    "#Environment Details\n",
    "$region = \"unitedstates\"\n",
    "\n",
    "#DevDetails\n",
    "$devurl = \"siDev\" #Include Prefix in URL\n",
    "$devname = \"SIDEV\" #Include Prefix in URL, ALL CAPS\n",
    "#Test Details\n",
    "$testurl = \"siTest\" #Include Prefix in URL\n",
    "$testname = \"SITEST\" #Include Prefix in URL, ALL CAPS\n",
    "\n",
    "#Prod Details\n",
    "$produrl = \"synergyimports\" #DO NOT Include Prefix in URL \"ex. www.ait.crm.dynamics.com\"\n",
    "$prodname = \"SIPROD\" #DO NOT Include Prefix in URL, ALL CAPS\n"
   ]
  },
  {
   "cell_type": "code",
   "execution_count": 13,
   "metadata": {
    "dotnet_interactive": {
     "language": "pwsh"
    },
    "polyglot_notebook": {
     "kernelName": "pwsh"
    },
    "vscode": {
     "languageId": "polyglot-notebook"
    }
   },
   "outputs": [
    {
     "name": "stdout",
     "output_type": "stream",
     "text": [
      "Connected as D365Admin@SynergyImports360.onmicrosoft.com\n",
      "\n",
      "Creating Sandbox Dataverse database in your tenant.\n",
      "...\n",
      "Polling completed with status code : OK\n",
      "Environment Url                       Environment ID                       Friendly Name Domain Name Organization ID                      Version\n",
      "https://org2a41cc4c.crm.dynamics.com/ 1ba18493-b3e3-ec7b-90ee-cac22cdb870d SIDEV                     18862497-6440-ef11-8e4b-0022482cc919 \n",
      "\n",
      "Connected as D365Admin@SynergyImports360.onmicrosoft.com\n",
      "\n",
      "Creating Sandbox Dataverse database in your tenant.\n",
      "...\n",
      "Polling completed with status code : OK\n",
      "Environment Url                  Environment ID                       Friendly Name Domain Name Organization ID                      Version\n",
      "https://sitest.crm.dynamics.com/ cd2bf35c-bcf2-e9a9-8d7f-d254e693e606 SITEST                    bfc9cb28-ba3f-ef11-8e49-000d3a8f6e20 \n",
      "\n",
      "Connected as D365Admin@SynergyImports360.onmicrosoft.com\n",
      "\n",
      "Creating Production Dataverse database in your tenant.\n",
      "...\n",
      "Polling completed with status code : OK\n",
      "Environment Url                          Environment ID                       Friendly Name Domain Name Organization ID                      Version\n",
      "https://synergyimports.crm.dynamics.com/ 4789934d-29d7-eee8-9ccb-33c829dd5b01 SIPROD                    1344bc0d-603f-ef11-8e49-000d3a8f6e0c \n",
      "\n"
     ]
    }
   ],
   "source": [
    "#Creation of all Customer Dataverse Environments\n",
    "#Environment types will be set to Sandbox unless Production Environment\n",
    "& $filepath admin create --name \"$devname\" --type \"Sandbox\" --domain \"$devurl\" --region \"$region\" --templates \"D365_Sales\"\n",
    "& $filepath admin create --name \"$testname\" --type \"Sandbox\" --domain \"$testurl\" --region \"$region\" --templates \"D365_Sales\"\n",
    "& $filepath admin create --name \"$prodname\" --type \"Production\" --domain \"$produrl\" --region \"$region\" --templates \"D365_Sales\"\n"
   ]
  },
  {
   "cell_type": "code",
   "execution_count": null,
   "metadata": {
    "dotnet_interactive": {
     "language": "pwsh"
    },
    "polyglot_notebook": {
     "kernelName": "pwsh"
    },
    "vscode": {
     "languageId": "polyglot-notebook"
    }
   },
   "outputs": [],
   "source": [
    "#Command to list Power Platform Environments\n",
    "& $filepath admin list"
   ]
  },
  {
   "cell_type": "markdown",
   "metadata": {},
   "source": [
    "# Retrive Dataverse Solutions\n"
   ]
  },
  {
   "cell_type": "code",
   "execution_count": null,
   "metadata": {
    "dotnet_interactive": {
     "language": "pwsh"
    },
    "polyglot_notebook": {
     "kernelName": "pwsh"
    },
    "vscode": {
     "languageId": "polyglot-notebook"
    }
   },
   "outputs": [],
   "source": [
    "#Retrivve Dataverse Solutions\n",
    "& $filepath solution list --environment https://p5dev.crm.dynamics.com/"
   ]
  },
  {
   "cell_type": "markdown",
   "metadata": {},
   "source": [
    "# Steps To Delete Environment\n",
    "1. List Environments\n",
    "2. Run command to delete by ID"
   ]
  },
  {
   "cell_type": "code",
   "execution_count": null,
   "metadata": {
    "dotnet_interactive": {
     "language": "pwsh"
    },
    "polyglot_notebook": {
     "kernelName": "pwsh"
    },
    "vscode": {
     "languageId": "polyglot-notebook"
    }
   },
   "outputs": [],
   "source": [
    "#Select the ID / URL from step 1 to delete\n",
    "& $filepath admin delete --environment ace68a68-a4ea-e5a2-8434-4918c8c9d309\n"
   ]
  },
  {
   "cell_type": "code",
   "execution_count": null,
   "metadata": {
    "dotnet_interactive": {
     "language": "pwsh"
    },
    "polyglot_notebook": {
     "kernelName": "pwsh"
    },
    "vscode": {
     "languageId": "polyglot-notebook"
    }
   },
   "outputs": [],
   "source": [
    "& $filepath admin create"
   ]
  }
 ],
 "metadata": {
  "kernelspec": {
   "display_name": ".NET (C#)",
   "language": "C#",
   "name": ".net-csharp"
  },
  "language_info": {
   "name": "python"
  },
  "polyglot_notebook": {
   "kernelInfo": {
    "defaultKernelName": "csharp",
    "items": [
     {
      "aliases": [],
      "name": "csharp"
     }
    ]
   }
  }
 },
 "nbformat": 4,
 "nbformat_minor": 2
}
