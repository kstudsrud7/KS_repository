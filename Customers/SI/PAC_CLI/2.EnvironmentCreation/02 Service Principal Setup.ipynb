{
 "cells": [
  {
   "cell_type": "markdown",
   "metadata": {},
   "source": [
    "# Create Service Principals using PAC CLI\n",
    " [Helpful Article](https://carldesouza.com/creating-service-principals-really-easily-using-pac-cli/)\n",
    "\n"
   ]
  },
  {
   "cell_type": "code",
   "execution_count": 1,
   "metadata": {
    "dotnet_interactive": {
     "language": "pwsh"
    },
    "polyglot_notebook": {
     "kernelName": "pwsh"
    },
    "vscode": {
     "languageId": "polyglot-notebook"
    }
   },
   "outputs": [],
   "source": [
    "# Here we are defining the path where CLI is installed on laptop with a PowerShell variable\n",
    "$filepath = \"C:\\Users\\kstudsrud\\AppData\\Local\\Microsoft\\PowerAppsCLI\\pac.cmd\"\n"
   ]
  },
  {
   "cell_type": "code",
   "execution_count": 2,
   "metadata": {
    "dotnet_interactive": {
     "language": "pwsh"
    },
    "polyglot_notebook": {
     "kernelName": "pwsh"
    },
    "vscode": {
     "languageId": "polyglot-notebook"
    }
   },
   "outputs": [
    {
     "name": "stdout",
     "output_type": "stream",
     "text": [
      "Index Active Kind      Name User                                        Cloud  Type            Environment            Environment Url\n",
      "[1]          UNIVERSAL      kstudsrud@arcticit.com                      Public OperatingSystem                        \n",
      "[2]          UNIVERSAL      admin@CRM410826.onmicrosoft.com             Public User                                   \n",
      "[3]   *      DATAVERSE      admin@CRM410826.onmicrosoft.com             Public User            CRM410826              https://orgc9602237.crm.dynamics.com/\n",
      "[4]          UNIVERSAL      rroberts@ydsp-nsn.gov                       Public User                                   \n",
      "[5]          UNIVERSAL      rroberts@ydsp-nsn.gov                       UsGov  User            YDSP TP Dev            https://ydsptpdev.crm9.dynamics.com/\n",
      "[6]          UNIVERSAL      admin@stokesoftwaresolutions.com            Public User                                   \n",
      "[7]          UNIVERSAL      admin@stokesoftwaresolutions.com            Public User            Portal DEV             https://portaldevks.crm.dynamics.com/\n",
      "[8]          UNIVERSAL      aitadmin@MPTNAIT.onmicrosoft.com            Public User                                   \n",
      "[9]          UNIVERSAL      kstudsrud@stokesoftwaresolutions.com        Public User                                   \n",
      "[10]         UNIVERSAL      kstudsrud@aitrmmdev.onmicrosoft.com         Public User            AIT RMM Dev (default)  https://org7ae49187.crm.dynamics.com/\n",
      "[11]         UNIVERSAL      aitadmin@MPTNAIT.onmicrosoft.com            UsGov  User            DEV - Tribal Platforms https://mptndev.crm9.dynamics.com/\n",
      "[12]  *      UNIVERSAL      D365Admin@SynergyImports360.onmicrosoft.com Public User                                   \n",
      "\n"
     ]
    }
   ],
   "source": [
    "# Retrieving all of your Authorizing profiles, should have 1 for each customer / project\n",
    "& $filepath auth list\n"
   ]
  },
  {
   "cell_type": "code",
   "execution_count": 12,
   "metadata": {
    "dotnet_interactive": {
     "language": "pwsh"
    },
    "polyglot_notebook": {
     "kernelName": "pwsh"
    },
    "vscode": {
     "languageId": "polyglot-notebook"
    }
   },
   "outputs": [
    {
     "name": "stdout",
     "output_type": "stream",
     "text": [
      "New default profile:\n",
      "    * UNIVERSAL                                : D365Admin@SynergyImports360.onmicrosoft.com Public                                         \n",
      "\n"
     ]
    }
   ],
   "source": [
    "#selection of the Auth profile / tenant that will be used for provisioing\n",
    "& $filepath auth select --index 12\n"
   ]
  },
  {
   "cell_type": "code",
   "execution_count": 4,
   "metadata": {
    "dotnet_interactive": {
     "language": "pwsh"
    },
    "polyglot_notebook": {
     "kernelName": "pwsh"
    },
    "vscode": {
     "languageId": "polyglot-notebook"
    }
   },
   "outputs": [
    {
     "name": "stdout",
     "output_type": "stream",
     "text": [
      "Connected as D365Admin@SynergyImports360.onmicrosoft.com\n",
      "\n",
      "Listing all environments from your tenant...\n",
      "Active Environment Environment ID                       Environment Url                             Type                   Organization ID\n",
      "       SIDEV       1ba18493-b3e3-ec7b-90ee-cac22cdb870d https://org2a41cc4c.crm.dynamics.com/       Sandbox                18862497-6440-ef11-8e4b-0022482cc919\n",
      "       SIPROD      4789934d-29d7-eee8-9ccb-33c829dd5b01 https://synergyimports.crm.dynamics.com/    Production             1344bc0d-603f-ef11-8e49-000d3a8f6e0c\n",
      "       SITEST      cd2bf35c-bcf2-e9a9-8d7f-d254e693e606 https://sitest.crm.dynamics.com/            Sandbox                bfc9cb28-ba3f-ef11-8e49-000d3a8f6e20\n",
      "       TRIAL       e01945e8-3ca2-e050-b75b-3248501f750e https://synergyimportsdev.crm.dynamics.com/ SubscriptionBasedTrial 62f163ef-8e21-ef11-8406-0022482ab229\n",
      "\n"
     ]
    }
   ],
   "source": [
    "#Command to list Power Platform Environments\n",
    "& $filepath admin list"
   ]
  },
  {
   "cell_type": "markdown",
   "metadata": {},
   "source": [
    "## Create the Service Principal\n",
    "Command Used: `pac admin create-service-principal  --environment <environmentid>`\n",
    "> Make sure your Org is poperly selcted from the pac auth select step\n"
   ]
  },
  {
   "cell_type": "code",
   "execution_count": 6,
   "metadata": {
    "dotnet_interactive": {
     "language": "pwsh"
    },
    "polyglot_notebook": {
     "kernelName": "pwsh"
    },
    "vscode": {
     "languageId": "polyglot-notebook"
    }
   },
   "outputs": [],
   "source": [
    "# App Registration Names for Each Environment\n",
    "$envDevName = \"SIDev\"\n",
    "$envTestname = \"SITest\"\n",
    "$envProdname = \"SIPRod\""
   ]
  },
  {
   "cell_type": "code",
   "execution_count": 7,
   "metadata": {
    "dotnet_interactive": {
     "language": "pwsh"
    },
    "polyglot_notebook": {
     "kernelName": "pwsh"
    },
    "vscode": {
     "languageId": "polyglot-notebook"
    }
   },
   "outputs": [],
   "source": [
    "#When Running the Following Command,\n",
    "$devappoutput = & $filepath admin create-service-principal --environment 1ba18493-b3e3-ec7b-90ee-cac22cdb870d --name \"$envDevName\"\n",
    "$testappoutput = & $filepath admin create-service-principal --environment cd2bf35c-bcf2-e9a9-8d7f-d254e693e606 --name \"$envTestname\"\n",
    "$prodappoutput = & $filepath admin create-service-principal --environment 4789934d-29d7-eee8-9ccb-33c829dd5b01 --name \"$envProdname\"\n"
   ]
  },
  {
   "cell_type": "code",
   "execution_count": 13,
   "metadata": {
    "dotnet_interactive": {
     "language": "pwsh"
    },
    "polyglot_notebook": {
     "kernelName": "pwsh"
    },
    "vscode": {
     "languageId": "polyglot-notebook"
    }
   },
   "outputs": [
    {
     "name": "stdout",
     "output_type": "stream",
     "text": [
      "Connected as D365Admin@SynergyImports360.onmicrosoft.com\n",
      "Creating Entra ID Application 'SIPRod'... Done\n",
      "Creating Entra ID Service Principal... Done\n",
      "\n",
      "Connected to... \n",
      "Could not connect to the Dataverse organization at https://synergyimports.crm.dynamics.com/.\n",
      "Microsoft PowerPlatform CLI\n",
      "Version: 1.32.8+gf89d946\n",
      "Online documentation: https://aka.ms/PowerPlatformCLI\n",
      "Feedback, Suggestions, Issues: https://github.com/microsoft/powerplatform-build-tools/discussions\n",
      "\n",
      "Error: Failed to connect to Dataverse\n",
      "    ExternalTokenManagement Authentication Requested but not configured correctly. 003\n",
      "        AADSTS50076: Due to a configuration change made by your administrator, or because you moved to a new location, you must use multi-factor authentication to access '00000007-0000-0000-c000-000000000000'. Trace ID: 9280e352-bfca-445f-aa90-5c9c71805a00 Correlation ID: 6e8baadd-b038-4dee-8ff5-dcbfe298d8b2 Timestamp: 2024-07-12 18:55:54Z\n",
      "            AADSTS50076: Due to a configuration change made by your administrator, or because you moved to a new location, you must use multi-factor authentication to access '00000007-0000-0000-c000-000000000000'. Trace ID: 9280e352-bfca-445f-aa90-5c9c71805a00 Correlation ID: 6e8baadd-b038-4dee-8ff5-dcbfe298d8b2 Timestamp: 2024-07-12 18:55:54Z\n",
      "\n",
      "\n"
     ]
    }
   ],
   "source": [
    "$prodappoutput \n",
    "\n"
   ]
  }
 ],
 "metadata": {
  "kernelspec": {
   "display_name": ".NET (C#)",
   "language": "C#",
   "name": ".net-csharp"
  },
  "language_info": {
   "name": "python"
  },
  "polyglot_notebook": {
   "kernelInfo": {
    "defaultKernelName": "csharp",
    "items": [
     {
      "aliases": [],
      "name": "csharp"
     }
    ]
   }
  }
 },
 "nbformat": 4,
 "nbformat_minor": 2
}
