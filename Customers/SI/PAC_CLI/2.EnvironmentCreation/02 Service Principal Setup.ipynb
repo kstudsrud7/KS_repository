{
 "cells": [
  {
   "cell_type": "markdown",
   "metadata": {},
   "source": [
    "# Create Service Principals using PAC CLI\n",
    " [Helpful Article](https://carldesouza.com/creating-service-principals-really-easily-using-pac-cli/)\n",
    "\n"
   ]
  },
  {
   "cell_type": "code",
   "execution_count": 1,
   "metadata": {
    "dotnet_interactive": {
     "language": "pwsh"
    },
    "polyglot_notebook": {
     "kernelName": "pwsh"
    },
    "vscode": {
     "languageId": "polyglot-notebook"
    }
   },
   "outputs": [],
   "source": [
    "# Here we are defining the path where CLI is installed on laptop with a PowerShell variable\n",
    "$filepath = \"C:\\Users\\kstudsrud\\AppData\\Local\\Microsoft\\PowerAppsCLI\\pac.cmd\"\n"
   ]
  },
  {
   "cell_type": "code",
   "execution_count": 2,
   "metadata": {
    "dotnet_interactive": {
     "language": "pwsh"
    },
    "polyglot_notebook": {
     "kernelName": "pwsh"
    },
    "vscode": {
     "languageId": "polyglot-notebook"
    }
   },
   "outputs": [
    {
     "name": "stdout",
     "output_type": "stream",
     "text": [
      "Index Active Kind      Name User                                        Cloud  Type            Environment            Environment Url\n",
      "[1]          UNIVERSAL      kstudsrud@arcticit.com                      Public OperatingSystem                        \n",
      "[2]          UNIVERSAL      admin@CRM410826.onmicrosoft.com             Public User                                   \n",
      "[3]   *      DATAVERSE      admin@CRM410826.onmicrosoft.com             Public User            CRM410826              https://orgc9602237.crm.dynamics.com/\n",
      "[4]          UNIVERSAL      rroberts@ydsp-nsn.gov                       Public User                                   \n",
      "[5]          UNIVERSAL      rroberts@ydsp-nsn.gov                       UsGov  User            YDSP TP Dev            https://ydsptpdev.crm9.dynamics.com/\n",
      "[6]          UNIVERSAL      admin@stokesoftwaresolutions.com            Public User                                   \n",
      "[7]          UNIVERSAL      admin@stokesoftwaresolutions.com            Public User            Portal DEV             https://portaldevks.crm.dynamics.com/\n",
      "[8]          UNIVERSAL      aitadmin@MPTNAIT.onmicrosoft.com            Public User                                   \n",
      "[9]          UNIVERSAL      kstudsrud@stokesoftwaresolutions.com        Public User                                   \n",
      "[10]         UNIVERSAL      kstudsrud@aitrmmdev.onmicrosoft.com         Public User            AIT RMM Dev (default)  https://org7ae49187.crm.dynamics.com/\n",
      "[11]         UNIVERSAL      aitadmin@MPTNAIT.onmicrosoft.com            UsGov  User            DEV - Tribal Platforms https://mptndev.crm9.dynamics.com/\n",
      "[12]  *      UNIVERSAL      D365Admin@SynergyImports360.onmicrosoft.com Public User                                   \n",
      "\n"
     ]
    }
   ],
   "source": [
    "# Retrieving all of your Authorizing profiles, should have 1 for each customer / project\n",
    "& $filepath auth list\n"
   ]
  },
  {
   "cell_type": "code",
   "execution_count": 9,
   "metadata": {
    "dotnet_interactive": {
     "language": "pwsh"
    },
    "polyglot_notebook": {
     "kernelName": "pwsh"
    },
    "vscode": {
     "languageId": "polyglot-notebook"
    }
   },
   "outputs": [
    {
     "name": "stdout",
     "output_type": "stream",
     "text": [
      "New default profile:\n",
      "    * UNIVERSAL                                : D365Admin@SynergyImports360.onmicrosoft.com Public                                         \n",
      "\n"
     ]
    }
   ],
   "source": [
    "#selection of the Auth profile / tenant that will be used for provisioing\n",
    "& $filepath auth select --index 12\n"
   ]
  },
  {
   "cell_type": "code",
   "execution_count": 10,
   "metadata": {
    "dotnet_interactive": {
     "language": "pwsh"
    },
    "polyglot_notebook": {
     "kernelName": "pwsh"
    },
    "vscode": {
     "languageId": "polyglot-notebook"
    }
   },
   "outputs": [
    {
     "name": "stdout",
     "output_type": "stream",
     "text": [
      "Connected as D365Admin@SynergyImports360.onmicrosoft.com\n",
      "\n",
      "Listing all environments from your tenant...\n",
      "Microsoft PowerPlatform CLI\n",
      "Version: 1.32.8+gf89d946\n",
      "Online documentation: https://aka.ms/PowerPlatformCLI\n",
      "Feedback, Suggestions, Issues: https://github.com/microsoft/powerplatform-build-tools/discussions\n",
      "\n",
      "Error: AADSTS50076: Due to a configuration change made by your administrator, or because you moved to a new location, you must use multi-factor authentication to access '475226c6-020e-4fb2-8a90-7a972cbfc1d4'. Trace ID: ddb72507-c553-4d09-954c-13c132740701 Correlation ID: 17bcb860-ea49-4a8d-8b9b-7d373ad9c7ce Timestamp: 2024-07-24 00:10:51Z\n",
      "\n"
     ]
    }
   ],
   "source": [
    "#Command to list Power Platform Environments\n",
    "& $filepath admin list"
   ]
  },
  {
   "cell_type": "markdown",
   "metadata": {},
   "source": [
    "## Create the Service Principal\n",
    "Command Used: `pac admin create-service-principal  --environment <environmentid>`\n",
    "> Make sure your Org is poperly selcted from the pac auth select step\n"
   ]
  },
  {
   "cell_type": "code",
   "execution_count": 6,
   "metadata": {
    "dotnet_interactive": {
     "language": "pwsh"
    },
    "polyglot_notebook": {
     "kernelName": "pwsh"
    },
    "vscode": {
     "languageId": "polyglot-notebook"
    }
   },
   "outputs": [],
   "source": [
    "# App Registration Names for Each Environment\n",
    "$envDevName = \"SIDev2\"\n",
    "$envTestname = \"SITest\"\n",
    "$envProdname = \"SIPRod\""
   ]
  },
  {
   "cell_type": "code",
   "execution_count": 7,
   "metadata": {
    "dotnet_interactive": {
     "language": "pwsh"
    },
    "polyglot_notebook": {
     "kernelName": "pwsh"
    },
    "vscode": {
     "languageId": "polyglot-notebook"
    }
   },
   "outputs": [],
   "source": [
    "#When Running the Following Command,\n",
    "$devappoutput = & $filepath admin create-service-principal --environment 1ba18493-b3e3-ec7b-90ee-cac22cdb870d --name \"$envDevName\"\n",
    "#$testappoutput = & $filepath admin create-service-principal --environment cd2bf35c-bcf2-e9a9-8d7f-d254e693e606 --name \"$envTestname\"\n",
    "#$prodappoutput = & $filepath admin create-service-principal --environment 4789934d-29d7-eee8-9ccb-33c829dd5b01 --name \"$envProdname\"\n"
   ]
  },
  {
   "cell_type": "code",
   "execution_count": 8,
   "metadata": {
    "dotnet_interactive": {
     "language": "pwsh"
    },
    "polyglot_notebook": {
     "kernelName": "pwsh"
    },
    "vscode": {
     "languageId": "polyglot-notebook"
    }
   },
   "outputs": [
    {
     "name": "stdout",
     "output_type": "stream",
     "text": [
      "Connected as D365Admin@SynergyImports360.onmicrosoft.com\n",
      "Microsoft PowerPlatform CLI\n",
      "Version: 1.32.8+gf89d946\n",
      "Online documentation: https://aka.ms/PowerPlatformCLI\n",
      "Feedback, Suggestions, Issues: https://github.com/microsoft/powerplatform-build-tools/discussions\n",
      "\n",
      "Error: AADSTS50076: Due to a configuration change made by your administrator, or because you moved to a new location, you must use multi-factor authentication to access '00000007-0000-0000-c000-000000000000'. Trace ID: 3886ead3-9b6c-468e-97d4-d439b0a2b000 Correlation ID: d4774e19-56bb-4ee5-a9fd-2316b022760f Timestamp: 2024-07-24 00:10:02Z\n",
      "\n"
     ]
    }
   ],
   "source": [
    "$devappoutput \n",
    "\n"
   ]
  }
 ],
 "metadata": {
  "kernelspec": {
   "display_name": ".NET (C#)",
   "language": "C#",
   "name": ".net-csharp"
  },
  "language_info": {
   "name": "python"
  },
  "polyglot_notebook": {
   "kernelInfo": {
    "defaultKernelName": "csharp",
    "items": [
     {
      "aliases": [],
      "name": "csharp"
     }
    ]
   }
  }
 },
 "nbformat": 4,
 "nbformat_minor": 2
}
