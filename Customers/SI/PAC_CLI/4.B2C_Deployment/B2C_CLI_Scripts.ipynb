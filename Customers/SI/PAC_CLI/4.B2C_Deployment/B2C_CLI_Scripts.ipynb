{
 "cells": [
  {
   "cell_type": "markdown",
   "metadata": {},
   "source": [
    "# Automating Azure AD B2C creation with PowerShell Core\n",
    "[Link to Article](https://codez.deedx.cz/posts/automating-azure-ad-b2c-creation-with-powershell/)\n",
    "\n",
    "### B2C tenant creation and provisioning\n",
    "- [Full script can be found on GitHub](https://github.com/msimecek/AAD-automations/blob/main/b2c/Create-AzureB2C.ps1), this post walks through key parts of the solution and highlights some of the complications that were solved.\n",
    "\n",
    "The process is designed as a series of PowerShell functions which could work individually or as a chain. These are the steps:\n",
    "\n",
    "1. Create B2C tenant\n",
    "2. Sign in to Microsoft Graph PowerShell\n",
    "3. Create custom attribute\n",
    "4. Create user flows\n",
    "5. Create app registrations\n",
    "6. Assign Microsoft Graph access\n",
    "7. Grant admin consent\n",
    "8. Import users"
   ]
  },
  {
   "cell_type": "markdown",
   "metadata": {},
   "source": [
    "### Open Up [Azure Portal](https://portal.azure.com/) and Log Into Customer Environment\n",
    "1. Open Up Power Shell Command Line"
   ]
  },
  {
   "cell_type": "markdown",
   "metadata": {},
   "source": [
    "1. First ensure that the `Microsoft.AzureActiveDirectory` provider is registered. Run in CLI\n",
    "   1. Output of CLI Command: `registrationStat: Registered` (may take some time to run)\n",
    "2. Define Vairbles for PowerShell Script, if we are doing a Deployment for both TEST and PROD, this will need to be revised and re-run 2 times\n",
    "\n",
    "$AzureSubscriptionId=\"cfa79485-58c6-439c-95d6-5e2c86550350\"\n",
    "$AzureResourceGroup=\"TribalTest\"\n",
    "$B2CTenantName=\"TibalPlatformsTestB2C\"\n",
    "$Location=\"United States\"\n",
    "$CountryCode=\"US\"\n",
    "$ApiVersion = \"?api-version=2021-04-01\"\n",
    "\n"
   ]
  },
  {
   "cell_type": "markdown",
   "metadata": {},
   "source": [
    "## Check If Tenant Exists"
   ]
  },
  {
   "cell_type": "code",
   "execution_count": null,
   "metadata": {
    "dotnet_interactive": {
     "language": "pwsh"
    },
    "polyglot_notebook": {
     "kernelName": "pwsh"
    },
    "vscode": {
     "languageId": "polyglot-notebook"
    }
   },
   "outputs": [],
   "source": [
    "if (!$AzureSubscriptionId) {\n",
    "  Write-Host \"Getting subscription ID from the current account...\"\n",
    "  $AzureSubscriptionId = $(az account show --query \"id\" -o tsv)\n",
    "  Write-Host $AzureSubscriptionId\n",
    "}\n",
    "\n",
    "$resourceId = \n",
    "\"/subscriptions/$AzureSubscriptionId/resourceGroups/$AzureResourceGroup/providers/Microsoft.AzureActiveDirectory/b2cDirectories/$B2CTenantName.onmicrosoft.com?$ApiVersion\"\n",
    "\n",
    "# Check if tenant already exists\n",
    "Write-Host \"Checking if tenant '$B2CTenantName' already exists...\"\n",
    "az resource show --id $resourceId | Out-Null\n",
    "if($LastExitCode -eq 0) # No error means, the resource exists\n",
    "{\n",
    "  Write-Warning \"Tenant '$B2CTenantName' already exists. Not attempting to recreate it.\"\n",
    "  return"
   ]
  },
  {
   "cell_type": "markdown",
   "metadata": {},
   "source": [
    "## Confirm tennant does not exist, run the following Script"
   ]
  },
  {
   "cell_type": "code",
   "execution_count": null,
   "metadata": {
    "dotnet_interactive": {
     "language": "pwsh"
    },
    "polyglot_notebook": {
     "kernelName": "pwsh"
    },
    "vscode": {
     "languageId": "polyglot-notebook"
    }
   },
   "outputs": [],
   "source": [
    "$AzureSubscriptionId = \"cfa79485-58c6-439c-95d6-5e2c86550350\"\n",
    "$AzureResourceGroup = \"TribalDev\"\n",
    "$B2CTenantName = \"TribalPlatformsDevB2C\"\n",
    "$Location = \"United States\"\n",
    "$CountryCode = \"US\"\n",
    "$ApiVersion = \"?api-version=2021-04-01\"\n",
    "\n",
    "# Define the $reqBody structure as per your request\n",
    "$reqBody = @{\n",
    "    location = $Location\n",
    "    sku = \"\"\n",
    "}\n",
    "\n",
    "# Convert the PowerShell object to JSON and flatten it\n",
    "$jsonReqBody = $reqBody | ConvertTo-Json -Depth 10\n",
    "$jsonReqBody = $jsonReqBody -replace \"`n\", \"\" -replace \"`r\", \"\" -replace \" \", \"\"\n",
    "\n",
    "# Output the flattened JSON for verification\n",
    "Write-Output $jsonReqBody\n",
    "Write-Output $Url\n",
    "\n",
    "Write-Host \"Creating B2C tenant $B2CTenantName...\"\n",
    "# https://docs.microsoft.com/en-us/rest/api/activedirectory/b2c-tenants/create\n",
    "$Url = \"https://management.azure.com/subscriptions/$AzureSubscriptionId/resourceGroups/$AzureResourceGroup/providers/Microsoft.AzureActiveDirectory/b2cDirectories/$B2CTenantName$ApiVersion\"\n",
    "\n",
    "# Execute the az rest command\n",
    "az rest --method put `\n",
    "    --url $Url `\n",
    "    --body $jsonReqBody `\n",
    "    # --headers \"Content-Type=application/json\"\n",
    "\n",
    "if($LastExitCode -ne 0)\n",
    "{\n",
    "    throw \"Error on creating new B2C tenant!\"\n",
    "}\n",
    "\n",
    "Write-Host \"*** B2C Tenant creation started. It can take a moment to complete.\"\n",
    "\n",
    "do\n",
    "{\n",
    "  Write-Host \"Waiting for 30 seconds for B2C tenant creation...\"\n",
    "  Start-Sleep -Seconds 30\n",
    "\n",
    "  az resource show --id $resourceId\n",
    "}\n",
    "while($LastExitCode -ne 0)"
   ]
  },
  {
   "cell_type": "code",
   "execution_count": null,
   "metadata": {
    "dotnet_interactive": {
     "language": "pwsh"
    },
    "polyglot_notebook": {
     "kernelName": "pwsh"
    },
    "vscode": {
     "languageId": "polyglot-notebook"
    }
   },
   "outputs": [],
   "source": [
    "function Invoke-TenantInit {\n",
    "  param (\n",
    "    [string] $B2CTenantName\n",
    "  )\n",
    "\n",
    "  $B2CTenantId = \"$($B2CTenantName).onmicrosoft.com\"\n",
    "\n",
    "  # Get access token for the B2C tenant with audience \"management.core.windows.net\".\n",
    "  $managementAccessToken = $(az account get-access-token --tenant \"$B2CTenantId\" --query accessToken -o tsv)\n",
    "\n",
    "  # Invoke tenant initialization which happens through the portal automatically.\n",
    "  Write-Host \"Invoking tenant initialization...\"\n",
    "  Invoke-WebRequest -Uri \"https://main.b2cadmin.ext.azure.com/api/tenants/GetAndInitializeTenantPolicy?tenantId=$($B2CTenantId)&skipInitialization=false\" `\n",
    "    -Method \"GET\" `\n",
    "    -Headers @{\n",
    "      \"Authorization\" = \"Bearer $($managementAccessToken)\"\n",
    "    }\n",
    "}"
   ]
  },
  {
   "cell_type": "markdown",
   "metadata": {},
   "source": [
    "# Full Script"
   ]
  },
  {
   "cell_type": "code",
   "execution_count": null,
   "metadata": {
    "dotnet_interactive": {
     "language": "pwsh"
    },
    "polyglot_notebook": {
     "kernelName": "pwsh"
    },
    "vscode": {
     "languageId": "polyglot-notebook"
    }
   },
   "outputs": [],
   "source": [
    "# Variables\n",
    "$AzureSubscriptionId = \"cfa79485-58c6-439c-95d6-5e2c86550350\"\n",
    "$AzureResourceGroup = \"TribalTest\"\n",
    "$B2CTenantName = \"TribalPlatformsTestB2C\"\n",
    "$Location = \"United States\"\n",
    "$CountryCode = \"US\"\n",
    "$ApiVersion = \"2021-04-01\"\n",
    "\n",
    "# Set the subscription\n",
    "az account set --subscription $AzureSubscriptionId\n",
    "\n",
    "# Prepare the request body\n",
    "$requestBody = @{\n",
    "  location = $Location\n",
    "  properties = @{\n",
    "    displayName = $B2CTenantName\n",
    "    countryCode = $CountryCode\n",
    "  }\n",
    "} | ConvertTo-Json -Depth 3\n",
    "\n",
    "# Send the PUT request to create the B2C tenant and the corresponding Azure resource\n",
    "az rest --method put `\n",
    "  --uri \"https://management.azure.com/subscriptions/cfa79485-58c6-439c-95d6-5e2c86550350/resourceGroups/TribalDev/providers/Microsoft.AzureActiveDirectory/b2cDirectories/TribalPlatformsDevB2C?api-version=2021-04-01\" `\n",
    "  --body $requestBody\n",
    "\n",
    "# Output the result\n",
    "Write-Output \"Azure AD B2C tenant creation request has been initiated.\"\n"
   ]
  },
  {
   "cell_type": "code",
   "execution_count": 12,
   "metadata": {
    "dotnet_interactive": {
     "language": "javascript"
    },
    "polyglot_notebook": {
     "kernelName": "javascript"
    },
    "vscode": {
     "languageId": "polyglot-notebook"
    }
   },
   "outputs": [
    {
     "data": {
      "text/plain": [
       "BMW"
      ]
     },
     "metadata": {},
     "output_type": "display_data"
    }
   ],
   "source": [
    "const myObj = {\n",
    "    name: \"John\",\n",
    "    age: 30,\n",
    "    myCars: {\n",
    "      car1: \"Ford\",\n",
    "      car2: \"BMW\",\n",
    "      car3: \"Fiat\"\n",
    "    }\n",
    "  }\n",
    "  \n",
    "  let p1 = \"myCars\";\n",
    "  let p2 = \"car2\";\n",
    "\n",
    "  console.log(myObj[p1][p2]);"
   ]
  }
 ],
 "metadata": {
  "kernelspec": {
   "display_name": ".NET (C#)",
   "language": "C#",
   "name": ".net-csharp"
  },
  "language_info": {
   "name": "python"
  },
  "polyglot_notebook": {
   "kernelInfo": {
    "defaultKernelName": "csharp",
    "items": [
     {
      "aliases": [],
      "name": "csharp"
     }
    ]
   }
  }
 },
 "nbformat": 4,
 "nbformat_minor": 2
}
