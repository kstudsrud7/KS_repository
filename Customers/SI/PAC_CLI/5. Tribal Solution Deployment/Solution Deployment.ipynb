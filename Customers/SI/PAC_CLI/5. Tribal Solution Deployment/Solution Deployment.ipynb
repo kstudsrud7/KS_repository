{
 "cells": [
  {
   "cell_type": "markdown",
   "metadata": {},
   "source": [
    "# Installation Instructions\n",
    "Step 1 [Install Power Platform CLI using Windows MSI](https://learn.microsoft.com/en-us/power-platform/developer/howto/install-cli-msi)\n",
    "\n",
    "    string name = \"keaton\""
   ]
  },
  {
   "cell_type": "code",
   "execution_count": 1,
   "metadata": {
    "dotnet_interactive": {
     "language": "pwsh"
    },
    "polyglot_notebook": {
     "kernelName": "pwsh"
    },
    "vscode": {
     "languageId": "polyglot-notebook"
    }
   },
   "outputs": [],
   "source": [
    "$filepath = \"C:\\Users\\kstudsrud\\AppData\\Local\\Microsoft\\PowerAppsCLI\\pac.cmd\"\n",
    "# Here we are defining the path where CLI is installed on laptop with a PowerShell variable\n",
    "\n",
    "# Retrieving all of your Authorizing profiles, should have 1 for each customer / project\n",
    "& $filepath auth list\n"
   ]
  },
  {
   "cell_type": "code",
   "execution_count": 3,
   "metadata": {
    "dotnet_interactive": {
     "language": "pwsh"
    },
    "polyglot_notebook": {
     "kernelName": "pwsh"
    },
    "vscode": {
     "languageId": "polyglot-notebook"
    }
   },
   "outputs": [
    {
     "name": "stdout",
     "output_type": "stream",
     "text": [
      "New default profile:\n",
      "    * UNIVERSAL                                : kstudsrud@aitrmmdev.onmicrosoft.com      Public https://org7ae49187.crm.dynamics.com/   \n",
      "\n"
     ]
    }
   ],
   "source": [
    "#selection of the Auth profile / tenant that will be used for provisioing\n",
    "& $filepath auth select --index 10\n"
   ]
  },
  {
   "cell_type": "markdown",
   "metadata": {},
   "source": [
    "## Create Auth Profile (If Needed)"
   ]
  },
  {
   "cell_type": "code",
   "execution_count": null,
   "metadata": {
    "dotnet_interactive": {
     "language": "pwsh"
    },
    "polyglot_notebook": {
     "kernelName": "pwsh"
    },
    "vscode": {
     "languageId": "polyglot-notebook"
    }
   },
   "outputs": [],
   "source": [
    "# Retrieving all of your Authorizing profiles, should have 1 for each customer / project\n",
    "& $filepath auth create"
   ]
  },
  {
   "cell_type": "markdown",
   "metadata": {},
   "source": [
    "## List of Tribal Platform Solution Locations"
   ]
  },
  {
   "cell_type": "code",
   "execution_count": 8,
   "metadata": {
    "dotnet_interactive": {
     "language": "pwsh"
    },
    "polyglot_notebook": {
     "kernelName": "pwsh"
    },
    "vscode": {
     "languageId": "polyglot-notebook"
    }
   },
   "outputs": [],
   "source": [
    "## File Path's\n",
    "$TPCourtUserViews =\"C:\\Users\\kstudsrud\\source\\repos\\InternalProduct\\1. Managed_Solutions\\1.TPCourt_UserViews_managed.zip\"\n",
    "$TPBase = \"C:\\Users\\kstudsrud\\source\\repos\\InternalProduct\\1. Managed_Solutions\\2.TPBase_managed.zip\"\n",
    "$TPBasePlugins = \"C:\\Users\\kstudsrud\\source\\repos\\InternalProduct\\1. Managed_Solutions\\3.TPBasePlugins_managed.zip\"\n",
    "$TPBaseProcesses = \"C:\\Users\\kstudsrud\\source\\repos\\InternalProduct\\1. Managed_Solutions\\4.TPBaseProcesses_managed.zip\"\n",
    "$TPBaseReprots = \"C:\\Users\\kstudsrud\\source\\repos\\InternalProduct\\1. Managed_Solutions\\5.TPBaseReports_managed.zip\"\n",
    "$TPPortal = \"C:\\Users\\kstudsrud\\source\\repos\\InternalProduct\\1. Managed_Solutions\\6.TPPortal_managed.zip\"\n",
    "$PortalViewUpdates = \"C:\\Users\\kstudsrud\\source\\repos\\InternalProduct\\1. Managed_Solutions\\7.PortalViewUpdates_1_0_4_managed.zip\""
   ]
  },
  {
   "cell_type": "code",
   "execution_count": 6,
   "metadata": {
    "dotnet_interactive": {
     "language": "pwsh"
    },
    "polyglot_notebook": {
     "kernelName": "pwsh"
    },
    "vscode": {
     "languageId": "polyglot-notebook"
    }
   },
   "outputs": [
    {
     "name": "stdout",
     "output_type": "stream",
     "text": [
      "Connected as kstudsrud@aitrmmdev.onmicrosoft.com\n",
      "\n",
      "Listing all environments from your tenant...\n",
      "Active Environment               Environment ID                       Environment Url                                    Type      Organization ID\n",
      "       AIT - D365 Sales          9eb8bd3a-6f8d-ed46-9a10-92488559a30f https://aitd365sales.crm.dynamics.com/             Sandbox   31bcf613-dcaf-ee11-a564-000d3a10613b\n",
      "       AIT Customer Hub Capstone 80fe8fc6-6910-ef24-9127-90105d24681d https://ait-customerhub-capstone.crm.dynamics.com/ Sandbox   e29e7b35-d00a-ee11-a66d-000d3a32352e\n",
      "       AIT RMM D365 CE           9593e64f-b25b-e6f7-b9b3-8598597acd0b https://aitrmmd365ce.crm.dynamics.com/             Sandbox   bc74c55c-4aaa-ee11-be32-6045bd059026\n",
      "*      AIT RMM Dev (default)     d611dc44-1357-4875-a2d5-43db4fca6bb0 https://org7ae49187.crm.dynamics.com/              Default   67f424e0-b153-4daf-84c9-1bcc438d88a9\n",
      "       AIT Tribal Capstone       06b06a16-b157-e2b1-911f-f743306b5212 https://ait-tribal-capstone.crm.dynamics.com/      Sandbox   f60831b2-d10a-ee11-a66d-0022482cc91b\n",
      "       PortalDev_Upgrade         20113847-3ba2-e80d-90aa-0c73c5c27701 https://tribalportalupgrade.crm.dynamics.com/      Developer d16a4275-1033-ef11-8e4b-0022482ab006\n",
      "       TechTundra Dev            b6321efc-2259-e5e4-b079-f6e50ff43e0e https://techtundradev.crm.dynamics.com/            Sandbox   a77277c2-f90b-ef11-9f85-6045bd003934\n",
      "\n"
     ]
    }
   ],
   "source": [
    "#Command to list Power Platform Environments\n",
    "& $filepath admin list"
   ]
  },
  {
   "cell_type": "code",
   "execution_count": 9,
   "metadata": {
    "dotnet_interactive": {
     "language": "pwsh"
    },
    "polyglot_notebook": {
     "kernelName": "pwsh"
    },
    "vscode": {
     "languageId": "polyglot-notebook"
    }
   },
   "outputs": [],
   "source": [
    "#Imput target ID of Environment to Import Solutions\n",
    "$TargetEnvironmentId = \"20113847-3ba2-e80d-90aa-0c73c5c27701\""
   ]
  },
  {
   "cell_type": "markdown",
   "metadata": {},
   "source": [
    "## Define Solutions to Be Imported"
   ]
  },
  {
   "cell_type": "code",
   "execution_count": 10,
   "metadata": {
    "dotnet_interactive": {
     "language": "pwsh"
    },
    "polyglot_notebook": {
     "kernelName": "pwsh"
    },
    "vscode": {
     "languageId": "polyglot-notebook"
    }
   },
   "outputs": [
    {
     "name": "stdout",
     "output_type": "stream",
     "text": [
      "Importing solution from C:\\Users\\kstudsrud\\source\\repos\\InternalProduct\\1. Managed_Solutions\\1.TPCourt_UserViews_managed.zip to environment 20113847-3ba2-e80d-90aa-0c73c5c27701\n",
      "Connected as kstudsrud@aitrmmdev.onmicrosoft.com\n",
      "Connected to... PortalDev_Upgrade\n",
      "\n",
      "Solution Importing...\n",
      "\n",
      "Solution Imported successfully.\n",
      "Successfully imported solution from C:\\Users\\kstudsrud\\source\\repos\\InternalProduct\\1. Managed_Solutions\\1.TPCourt_UserViews_managed.zip\n",
      "Importing solution from C:\\Users\\kstudsrud\\source\\repos\\InternalProduct\\1. Managed_Solutions\\2.TPBase_managed.zip to environment 20113847-3ba2-e80d-90aa-0c73c5c27701\n",
      "Connected as kstudsrud@aitrmmdev.onmicrosoft.com\n",
      "Connected to... PortalDev_Upgrade\n",
      "\n",
      "Solution Importing...\n",
      "\n",
      "Solution Imported successfully.\n",
      "Successfully imported solution from C:\\Users\\kstudsrud\\source\\repos\\InternalProduct\\1. Managed_Solutions\\2.TPBase_managed.zip\n",
      "Importing solution from C:\\Users\\kstudsrud\\source\\repos\\InternalProduct\\1. Managed_Solutions\\3.TPBasePlugins_managed.zip to environment 20113847-3ba2-e80d-90aa-0c73c5c27701\n",
      "Connected as kstudsrud@aitrmmdev.onmicrosoft.com\n",
      "Connected to... PortalDev_Upgrade\n",
      "\n",
      "Solution Importing...\n",
      "\n",
      "Solution Imported successfully.\n",
      "Successfully imported solution from C:\\Users\\kstudsrud\\source\\repos\\InternalProduct\\1. Managed_Solutions\\3.TPBasePlugins_managed.zip\n",
      "Importing solution from C:\\Users\\kstudsrud\\source\\repos\\InternalProduct\\1. Managed_Solutions\\4.TPBaseProcesses_managed.zip to environment 20113847-3ba2-e80d-90aa-0c73c5c27701\n",
      "Connected as kstudsrud@aitrmmdev.onmicrosoft.com\n",
      "Connected to... PortalDev_Upgrade\n",
      "\n",
      "Solution Importing...\n",
      "\n",
      "Solution Imported successfully.\n",
      "The original workflow definition has been deactivated and replaced.\n",
      "Successfully imported solution from C:\\Users\\kstudsrud\\source\\repos\\InternalProduct\\1. Managed_Solutions\\4.TPBaseProcesses_managed.zip\n",
      "Importing solution from  to environment 20113847-3ba2-e80d-90aa-0c73c5c27701\n",
      "Microsoft PowerPlatform CLI\n",
      "Version: 1.32.8+gf89d946\n",
      "Online documentation: https://aka.ms/PowerPlatformCLI\n",
      "Feedback, Suggestions, Issues: https://github.com/microsoft/powerplatform-build-tools/discussions\n",
      "\n",
      "Error: The argument '--path' must have a specified value.\n",
      "\n",
      "Usage: pac solution import [--environment] [--path] [--activate-plugins] [--force-overwrite] [--skip-dependency-check] [--import-as-holding] [--stage-and-upgrade] [--publish-changes] [--convert-to-managed] [--async] [--max-async-wait-time] [--settings-file] [--skip-lower-version]\n",
      "\n",
      "  --environment               Specifies the target Dataverse. The value may be a Guid or absolute https URL. When not specified, the active organization selected for the current auth profile will be used. (alias: -env)\n",
      "  --path                      Path to solution zip file. If not specified, assumes the current folder is a cdsproj project. (alias: -p)\n",
      "  --activate-plugins          Activate plug-ins and workflows on the solution. (alias: -ap)\n",
      "  --force-overwrite           Force an overwrite of unmanaged customizations (alias: -f)\n",
      "  --skip-dependency-check     Skip dependency check against dependencies flagged as product update (alias: -s)\n",
      "  --import-as-holding         Import the solution as a holding solution. (alias: -h)\n",
      "  --stage-and-upgrade         Import and upgrade the solution. (alias: -up)\n",
      "  --publish-changes           Publish your changes upon a successful import. (alias: -pc)\n",
      "  --convert-to-managed        Convert to a managed solution. (alias: -cm)\n",
      "  --async                     Imports the solution asynchronously. (alias: -a)\n",
      "  --max-async-wait-time       Max asynchronous wait time in minutes. The default value is 60 minutes. (alias: -wt)\n",
      "  --settings-file             The .json file with the deployment settings for connection references and environment variables.\n",
      "  --skip-lower-version        Skip solution import if same or higher version is present in current environment. (alias: -slv)\n",
      "\n",
      "Successfully imported solution from \n",
      "Importing solution from C:\\Users\\kstudsrud\\source\\repos\\InternalProduct\\1. Managed_Solutions\\6.TPPortal_managed.zip to environment 20113847-3ba2-e80d-90aa-0c73c5c27701\n",
      "Connected as kstudsrud@aitrmmdev.onmicrosoft.com\n",
      "Connected to... PortalDev_Upgrade\n",
      "\n",
      "Solution Importing...\n",
      "\n",
      "Solution Imported successfully.\n",
      "Successfully imported solution from C:\\Users\\kstudsrud\\source\\repos\\InternalProduct\\1. Managed_Solutions\\6.TPPortal_managed.zip\n",
      "Importing solution from C:\\Users\\kstudsrud\\source\\repos\\InternalProduct\\1. Managed_Solutions\\7.PortalViewUpdates_1_0_4_managed.zip to environment 20113847-3ba2-e80d-90aa-0c73c5c27701\n",
      "Connected as kstudsrud@aitrmmdev.onmicrosoft.com\n",
      "Connected to... PortalDev_Upgrade\n",
      "\n",
      "Solution Importing...\n",
      "\n",
      "Solution Imported successfully.\n",
      "Successfully imported solution from C:\\Users\\kstudsrud\\source\\repos\\InternalProduct\\1. Managed_Solutions\\7.PortalViewUpdates_1_0_4_managed.zip\n"
     ]
    }
   ],
   "source": [
    "# Array of file paths\n",
    "$filePaths = @($TPCourtUserViews, $TPBase, $TPBasePlugins, $TPBaseProcesses, $TPBaseReports, $TPPortal, $PortalViewUpdates)\n",
    "\n",
    "# Iterate through each file path and import the solution\n",
    "foreach ($filePath in $filePaths) {\n",
    "    Write-Output \"Importing solution from $filePath to environment $TargetEnvironmentId\"\n",
    "    try {\n",
    "        pac solution import --path $filePath --environment $TargetEnvironmentId\n",
    "        Write-Output \"Successfully imported solution from $filePath\"\n",
    "    } catch {\n",
    "        Write-Error \"Failed to import solution from $filePath. Error: $_\"\n",
    "    }\n",
    "} ## 34 Minutes for all solutions"
   ]
  },
  {
   "cell_type": "markdown",
   "metadata": {},
   "source": [
    "# Retrive Environments Solutions\n"
   ]
  },
  {
   "cell_type": "code",
   "execution_count": 4,
   "metadata": {
    "dotnet_interactive": {
     "language": "pwsh"
    },
    "polyglot_notebook": {
     "kernelName": "pwsh"
    },
    "vscode": {
     "languageId": "polyglot-notebook"
    }
   },
   "outputs": [
    {
     "name": "stdout",
     "output_type": "stream",
     "text": [
      "Connected as kstudsrud@aitrmmdev.onmicrosoft.com\n",
      "Active Display Name              Environment ID                       Environment URL                                    Unique Name\n",
      "       AIT - D365 Sales          9eb8bd3a-6f8d-ed46-9a10-92488559a30f https://aitd365sales.crm.dynamics.com/             unq31bcf613dcafee11a564000d3a106\n",
      "       AIT Customer Hub Capstone 80fe8fc6-6910-ef24-9127-90105d24681d https://ait-customerhub-capstone.crm.dynamics.com/ unqe29e7b35d00aee11a66d000d3a323\n",
      "       AIT RMM D365 CE           9593e64f-b25b-e6f7-b9b3-8598597acd0b https://aitrmmd365ce.crm.dynamics.com/             unqbc74c55c4aaaee11be326045bd059\n",
      "*      AIT RMM Dev (default)     d611dc44-1357-4875-a2d5-43db4fca6bb0 https://org7ae49187.crm.dynamics.com/              unq67f424e0b1534daf84c91bcc438d8\n",
      "       AIT Tribal Capstone       06b06a16-b157-e2b1-911f-f743306b5212 https://ait-tribal-capstone.crm.dynamics.com/      unqf60831b2d10aee11a66d0022482cc\n",
      "       PortalDev_Upgrade         20113847-3ba2-e80d-90aa-0c73c5c27701 https://tribalportalupgrade.crm.dynamics.com/      unqd16a42751033ef118e4b0022482ab\n",
      "       TechTundra Dev            b6321efc-2259-e5e4-b079-f6e50ff43e0e https://techtundradev.crm.dynamics.com/            unqa77277c2f90bef119f856045bd003\n",
      "\n"
     ]
    }
   ],
   "source": [
    "#Retrivve Dataverse Solutions\n",
    "& $filepath env list "
   ]
  }
 ],
 "metadata": {
  "kernelspec": {
   "display_name": ".NET (C#)",
   "language": "C#",
   "name": ".net-csharp"
  },
  "language_info": {
   "name": "python"
  },
  "polyglot_notebook": {
   "kernelInfo": {
    "defaultKernelName": "csharp",
    "items": [
     {
      "aliases": [],
      "name": "csharp"
     }
    ]
   }
  }
 },
 "nbformat": 4,
 "nbformat_minor": 2
}
