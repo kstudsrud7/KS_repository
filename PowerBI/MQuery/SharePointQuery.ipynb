{
 "cells": [
  {
   "cell_type": "markdown",
   "metadata": {},
   "source": [
    "# How to Query SharePoint Lists Fast\n",
    "[Hoosier BI](https://hoosierbi.com/2022/11/12/updated-get-sharepoint-list-data-fast/)\n",
    "* List below Contains Both a Function to use In Power Query and Also a General Query\n",
    "* Enter in Tennat / site detials and adjust column\n",
    "\n",
    "Helpful links\n",
    "* [Microsoft SharePoint API Docs](https://learn.microsoft.com/en-us/sharepoint/dev/sp-add-ins/working-with-lists-and-list-items-with-rest)"
   ]
  },
  {
   "cell_type": "code",
   "execution_count": null,
   "metadata": {
    "vscode": {
     "languageId": "polyglot-notebook"
    }
   },
   "outputs": [],
   "source": [
    "\n",
    "//Function Version\n",
    "\n",
    "(tenant_name,site_name,list_name)=>\n",
    "let\n",
    "    tenantname = tenant_name,\n",
    "    sitename = site_name, // if a subsite use \"Site/SubSite\"\n",
    "    listname = list_name,\n",
    "    baseurl = \"https://\" & tenantname & \"/sites/\" & sitename & \"/_api/web/lists/GetByTitle('\" & listname & \"')/\",\n",
    "    itemcount = Json.Document(Web.Contents(baseurl&\"ItemCount\", [Headers=[Accept=\"application/json\"]]))[value],\n",
    "    skiplist = List.Numbers(0, Number.RoundUp(itemcount/5000), 5000),\n",
    "    #\"Converted to Table\" = Table.FromList(skiplist, Splitter.SplitByNothing(), null, null, ExtraValues.Error),\n",
    "    #\"Renamed Columns\" = Table.RenameColumns(#\"Converted to Table\",{{\"Column1\", \"Skip\"}}),\n",
    "    #\"Changed Type\" = Table.TransformColumnTypes(#\"Renamed Columns\",{{\"Skip\", type text}}),\n",
    "    fieldselect = \"&$top=5000\", // all fields with no expansion\n",
    "    //fieldselect = \"&$top=5000&$select = Id,Title,Person,Date\", // list desired fields (no expansion)\n",
    "    //fieldselect = \"&$top=5000&$select = Id,Title,Person/LastName,Person/FirstName,Date&$expand = Person\", //expand list fields\n",
    "    #\"Added Custom\" = Table.AddColumn(#\"Changed Type\", \"Items\", each Json.Document(Web.Contents(baseurl& \"/items?$skipToken=Paged=TRUE%26p_ID=\" & [Skip] & fieldselect, [Headers=[Accept=\"application/json\"]]))),\n",
    "    #\"Expanded Items\" = Table.ExpandRecordColumn(#\"Added Custom\", \"Items\", {\"value\"}, {\"value\"}),\n",
    "    #\"Expanded value\" = Table.ExpandListColumn(#\"Expanded Items\", \"value\")\n",
    "    \n",
    "in\n",
    "    #\"Expanded value\"\n"
   ]
  },
  {
   "cell_type": "code",
   "execution_count": null,
   "metadata": {
    "vscode": {
     "languageId": "polyglot-notebook"
    }
   },
   "outputs": [],
   "source": [
    "//Query Version\n",
    "\n",
    "let\n",
    "    sitename =\"<your site>\", // if a subsite use \"Site/SubSite\"\n",
    "    listname = \"BigList\",\n",
    "    baseurl = \"https://<your SharePoint URL>/sites/\" & sitename & \"/_api/web/lists/GetByTitle('\" & listname & \"')/\",\n",
    "    itemcount = Json.Document(Web.Contents(baseurl&\"ItemCount\", [Headers=[Accept=\"application/json\"]]))[value],\n",
    "    skiplist = List.Numbers(0, Number.RoundUp(itemcount/5000), 5000),\n",
    "    #\"Converted to Table\" = Table.FromList(skiplist, Splitter.SplitByNothing(), null, null, ExtraValues.Error),\n",
    "    #\"Renamed Columns\" = Table.RenameColumns(#\"Converted to Table\",{{\"Column1\", \"Skip\"}}),\n",
    "    #\"Changed Type\" = Table.TransformColumnTypes(#\"Renamed Columns\",{{\"Skip\", type text}}),\n",
    "    fieldselect = \"&$top=5000\", // all fields with no expansion\n",
    "    //fieldselect = \"&$top=5000&$select = Id,Title,Person,Date\", // list desired fields (no expansion)\n",
    "    //fieldselect = \"&$top=5000&$select=Id,Title,Choice,LookupColumn/Title,LookupColumn/Project,LookupColumn/ProjectStatus,Date,Person/LastName,Person/FirstName,Person/EMail&$expand=LookupColumn,Person\",\n",
    "    Custom1 = Table.AddColumn(#\"Changed Type\", \"Items\", each Json.Document(Web.Contents(baseurl& \"/items?$skipToken=Paged=TRUE%26p_ID=\" & [Skip] & fieldselect, [Headers=[Accept=\"application/json\"]]))),\n",
    "    #\"Expanded Items\" = Table.ExpandRecordColumn(Custom1, \"Items\", {\"value\"}, {\"value\"}),\n",
    "    #\"Expanded value\" = Table.ExpandListColumn(#\"Expanded Items\", \"value\")\n",
    "in\n",
    "    #\"Expanded value\""
   ]
  },
  {
   "cell_type": "code",
   "execution_count": null,
   "metadata": {
    "vscode": {
     "languageId": "polyglot-notebook"
    }
   },
   "outputs": [],
   "source": [
    "how is the followinng SharePoint Rest API work below for the expand column? \n",
    "\n",
    "GET https://{site_url}/_api/web/lists('{list_guid}')/items?$select=Title,Products/Name&$expand=Products/Name\n",
    "Authorization: \"Bearer \" + accessToken\n",
    "Accept: \"application/json;odata=verbose\""
   ]
  }
 ],
 "metadata": {
  "language_info": {
   "name": "python"
  }
 },
 "nbformat": 4,
 "nbformat_minor": 2
}
