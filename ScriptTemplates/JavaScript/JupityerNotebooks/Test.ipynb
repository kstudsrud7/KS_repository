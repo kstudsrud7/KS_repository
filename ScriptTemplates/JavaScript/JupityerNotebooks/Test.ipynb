{
 "cells": [
  {
   "cell_type": "code",
   "execution_count": null,
   "metadata": {
    "vscode": {
     "languageId": "javascript"
    }
   },
   "outputs": [],
   "source": [
    "// This is a JavaScript code cell in a Jupyter notebook\n",
    "console.log(\"Hello, Jupyter with JavaScript!\");\n"
   ]
  }
 ],
 "metadata": {
  "language_info": {
   "name": "python"
  }
 },
 "nbformat": 4,
 "nbformat_minor": 2
}
