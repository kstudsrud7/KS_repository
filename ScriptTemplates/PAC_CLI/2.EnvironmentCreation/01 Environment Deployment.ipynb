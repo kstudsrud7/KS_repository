{
 "cells": [
  {
   "cell_type": "markdown",
   "metadata": {},
   "source": [
    "# Installation Instructions\n",
    "Step 1 [Install Power Platform CLI using Windows MSI](https://learn.microsoft.com/en-us/power-platform/developer/howto/install-cli-msi)\n",
    "\n",
    "    string name = \"keaton\""
   ]
  },
  {
   "cell_type": "code",
   "execution_count": null,
   "metadata": {
    "dotnet_interactive": {
     "language": "pwsh"
    },
    "polyglot_notebook": {
     "kernelName": "pwsh"
    },
    "vscode": {
     "languageId": "polyglot-notebook"
    }
   },
   "outputs": [],
   "source": [
    "$filepath = \"C:\\Users\\kstudsrud\\AppData\\Local\\Microsoft\\PowerAppsCLI\\pac.cmd\"\n",
    "# Here we are defining the path where CLI is installed on laptop with a PowerShell variable"
   ]
  },
  {
   "cell_type": "code",
   "execution_count": null,
   "metadata": {
    "dotnet_interactive": {
     "language": "pwsh"
    },
    "polyglot_notebook": {
     "kernelName": "pwsh"
    },
    "vscode": {
     "languageId": "polyglot-notebook"
    }
   },
   "outputs": [],
   "source": [
    "# Retrieving all of your Authorizing profiles, should have 1 for each customer / project\n",
    "& $filepath auth list\n"
   ]
  },
  {
   "cell_type": "code",
   "execution_count": null,
   "metadata": {
    "dotnet_interactive": {
     "language": "pwsh"
    },
    "polyglot_notebook": {
     "kernelName": "pwsh"
    },
    "vscode": {
     "languageId": "polyglot-notebook"
    }
   },
   "outputs": [],
   "source": [
    "#selection of the Auth profile / tenant that will be used for provisioing\n",
    "& $filepath auth select --index 9\n"
   ]
  },
  {
   "cell_type": "markdown",
   "metadata": {},
   "source": [
    "## Create Auth Profile"
   ]
  },
  {
   "cell_type": "code",
   "execution_count": null,
   "metadata": {
    "dotnet_interactive": {
     "language": "pwsh"
    },
    "polyglot_notebook": {
     "kernelName": "pwsh"
    },
    "vscode": {
     "languageId": "polyglot-notebook"
    }
   },
   "outputs": [],
   "source": [
    "# Retrieving all of your Authorizing profiles, should have 1 for each customer / project\n",
    "& $filepath auth create"
   ]
  },
  {
   "cell_type": "markdown",
   "metadata": {},
   "source": [
    "# Create Power Apps Environments (Dev,Test, Prod)\n",
    "## Define Environment Details\n",
    "1. "
   ]
  },
  {
   "cell_type": "code",
   "execution_count": null,
   "metadata": {
    "dotnet_interactive": {
     "language": "pwsh"
    },
    "polyglot_notebook": {
     "kernelName": "pwsh"
    },
    "vscode": {
     "languageId": "polyglot-notebook"
    }
   },
   "outputs": [],
   "source": [
    "#Environment Details\n",
    "$region = \"unitedstates\"\n",
    "\n",
    "#DevDetails\n",
    "$devurl = \"aitdev\" #Include Prefix in URL\n",
    "$devname = \"AITDEV\" #Include Prefix in URL, ALL CAPS\n",
    "#Test Details\n",
    "$testurl = \"aittest\" #Include Prefix in URL\n",
    "$testname = \"AITTEST\" #Include Prefix in URL, ALL CAPS\n",
    "\n",
    "#Prod Details\n",
    "$produrl = \"ait\" #DO NOT Include Prefix in URL \"ex. www.ait.crm.dynamics.com\"\n",
    "$prodname = \"AITPROD\" #DO NOT Include Prefix in URL, ALL CAPS\n"
   ]
  },
  {
   "cell_type": "code",
   "execution_count": null,
   "metadata": {
    "dotnet_interactive": {
     "language": "pwsh"
    },
    "polyglot_notebook": {
     "kernelName": "pwsh"
    },
    "vscode": {
     "languageId": "polyglot-notebook"
    }
   },
   "outputs": [],
   "source": [
    "#Creation of all Customer Dataverse Environments\n",
    "#Environment types will be set to Sandbox unless Production Environment\n",
    "& $filepath admin create --name \"$devname\" --type \"Developer\" --domain \"$devurl\" --region \"$region\"\n",
    "& $filepath admin create --name \"$testname\" --type \"Developer\" --domain \"$testurl\" --region \"$region\"\n",
    "& $filepath admin create --name \"$prodname\" --type \"Developer\" --domain \"$produrl\" --region \"$region\"\n"
   ]
  },
  {
   "cell_type": "code",
   "execution_count": null,
   "metadata": {
    "dotnet_interactive": {
     "language": "pwsh"
    },
    "polyglot_notebook": {
     "kernelName": "pwsh"
    },
    "vscode": {
     "languageId": "polyglot-notebook"
    }
   },
   "outputs": [],
   "source": [
    "#Command to list Power Platform Environments\n",
    "& $filepath admin list"
   ]
  },
  {
   "cell_type": "markdown",
   "metadata": {},
   "source": [
    "# Retrive Dataverse Solutions\n"
   ]
  },
  {
   "cell_type": "code",
   "execution_count": null,
   "metadata": {
    "dotnet_interactive": {
     "language": "pwsh"
    },
    "polyglot_notebook": {
     "kernelName": "pwsh"
    },
    "vscode": {
     "languageId": "polyglot-notebook"
    }
   },
   "outputs": [],
   "source": [
    "#Retrivve Dataverse Solutions\n",
    "& $filepath solution list --environment https://p5dev.crm.dynamics.com/"
   ]
  },
  {
   "cell_type": "markdown",
   "metadata": {},
   "source": [
    "# Steps To Delete Environment\n",
    "1. List Environments\n",
    "2. Run command to delete by ID"
   ]
  },
  {
   "cell_type": "code",
   "execution_count": null,
   "metadata": {
    "dotnet_interactive": {
     "language": "pwsh"
    },
    "polyglot_notebook": {
     "kernelName": "pwsh"
    },
    "vscode": {
     "languageId": "polyglot-notebook"
    }
   },
   "outputs": [],
   "source": [
    "#Select the ID / URL from step 1 to delete\n",
    "& $filepath admin delete --environment ace68a68-a4ea-e5a2-8434-4918c8c9d309\n"
   ]
  },
  {
   "cell_type": "code",
   "execution_count": null,
   "metadata": {
    "dotnet_interactive": {
     "language": "pwsh"
    },
    "polyglot_notebook": {
     "kernelName": "pwsh"
    },
    "vscode": {
     "languageId": "polyglot-notebook"
    }
   },
   "outputs": [],
   "source": [
    "& $filepath admin create"
   ]
  }
 ],
 "metadata": {
  "kernelspec": {
   "display_name": ".NET (C#)",
   "language": "C#",
   "name": ".net-csharp"
  },
  "language_info": {
   "name": "python"
  },
  "polyglot_notebook": {
   "kernelInfo": {
    "defaultKernelName": "csharp",
    "items": [
     {
      "aliases": [],
      "name": "csharp"
     }
    ]
   }
  }
 },
 "nbformat": 4,
 "nbformat_minor": 2
}
