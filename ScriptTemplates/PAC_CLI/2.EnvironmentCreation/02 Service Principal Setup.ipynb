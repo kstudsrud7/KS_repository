{
 "cells": [
  {
   "cell_type": "markdown",
   "metadata": {},
   "source": [
    "# Create Service Principals using PAC CLI\n",
    " [Helpful Article](https://carldesouza.com/creating-service-principals-really-easily-using-pac-cli/)\n",
    "\n"
   ]
  },
  {
   "cell_type": "code",
   "execution_count": 1,
   "metadata": {
    "dotnet_interactive": {
     "language": "pwsh"
    },
    "polyglot_notebook": {
     "kernelName": "pwsh"
    },
    "vscode": {
     "languageId": "polyglot-notebook"
    }
   },
   "outputs": [],
   "source": [
    "# Here we are defining the path where CLI is installed on laptop with a PowerShell variable\n",
    "$filepath = \"C:\\Users\\kstudsrud\\AppData\\Local\\Microsoft\\PowerAppsCLI\\pac.cmd\"\n"
   ]
  },
  {
   "cell_type": "code",
   "execution_count": 2,
   "metadata": {
    "dotnet_interactive": {
     "language": "pwsh"
    },
    "polyglot_notebook": {
     "kernelName": "pwsh"
    },
    "vscode": {
     "languageId": "polyglot-notebook"
    }
   },
   "outputs": [
    {
     "name": "stdout",
     "output_type": "stream",
     "text": [
      "Index Active Kind      Name User                                        Cloud  Type            Environment            Environment Url\n",
      "[1]          UNIVERSAL      kstudsrud@arcticit.com                      Public OperatingSystem                        \n",
      "[2]          UNIVERSAL      admin@CRM410826.onmicrosoft.com             Public User                                   \n",
      "[3]   *      DATAVERSE      admin@CRM410826.onmicrosoft.com             Public User            CRM410826              https://orgc9602237.crm.dynamics.com/\n",
      "[4]          UNIVERSAL      rroberts@ydsp-nsn.gov                       Public User                                   \n",
      "[5]          UNIVERSAL      rroberts@ydsp-nsn.gov                       UsGov  User            YDSP TP Dev            https://ydsptpdev.crm9.dynamics.com/\n",
      "[6]          UNIVERSAL      admin@stokesoftwaresolutions.com            Public User                                   \n",
      "[7]          UNIVERSAL      admin@stokesoftwaresolutions.com            Public User            Portal DEV             https://portaldevks.crm.dynamics.com/\n",
      "[8]          UNIVERSAL      aitadmin@MPTNAIT.onmicrosoft.com            Public User                                   \n",
      "[9]          UNIVERSAL      kstudsrud@stokesoftwaresolutions.com        Public User                                   \n",
      "[10]         UNIVERSAL      kstudsrud@aitrmmdev.onmicrosoft.com         Public User            AIT RMM Dev (default)  https://org7ae49187.crm.dynamics.com/\n",
      "[11]  *      UNIVERSAL      aitadmin@MPTNAIT.onmicrosoft.com            UsGov  User            DEV - Tribal Platforms https://mptndev.crm9.dynamics.com/\n",
      "[12]         UNIVERSAL      D365Admin@SynergyImports360.onmicrosoft.com Public User                                   \n",
      "\n"
     ]
    }
   ],
   "source": [
    "# Retrieving all of your Authorizing profiles, should have 1 for each customer / project\n",
    "& $filepath auth list\n"
   ]
  },
  {
   "cell_type": "code",
   "execution_count": 3,
   "metadata": {
    "dotnet_interactive": {
     "language": "pwsh"
    },
    "polyglot_notebook": {
     "kernelName": "pwsh"
    },
    "vscode": {
     "languageId": "polyglot-notebook"
    }
   },
   "outputs": [
    {
     "name": "stdout",
     "output_type": "stream",
     "text": [
      "New default profile:\n",
      "    * UNIVERSAL                                : D365Admin@SynergyImports360.onmicrosoft.com Public                                         \n",
      "\n"
     ]
    }
   ],
   "source": [
    "#selection of the Auth profile / tenant that will be used for provisioing\n",
    "& $filepath auth select --index 12\n"
   ]
  },
  {
   "cell_type": "code",
   "execution_count": null,
   "metadata": {
    "dotnet_interactive": {
     "language": "pwsh"
    },
    "polyglot_notebook": {
     "kernelName": "pwsh"
    },
    "vscode": {
     "languageId": "polyglot-notebook"
    }
   },
   "outputs": [],
   "source": [
    "#Command to list Power Platform Environments\n",
    "& $filepath admin list"
   ]
  },
  {
   "cell_type": "markdown",
   "metadata": {},
   "source": [
    "## Create the Service Principal\n",
    "Command Used: `pac admin create-service-principal  --environment <environmentid>`\n",
    "> Make sure your Org is poperly selcted from the pac auth select step\n"
   ]
  },
  {
   "cell_type": "code",
   "execution_count": 4,
   "metadata": {
    "dotnet_interactive": {
     "language": "pwsh"
    },
    "polyglot_notebook": {
     "kernelName": "pwsh"
    },
    "vscode": {
     "languageId": "polyglot-notebook"
    }
   },
   "outputs": [],
   "source": [
    "# App Registration Names for Each Environment\n",
    "$envDevName = \"CRMDev\"\n",
    "$envTestname = \"TribalPlatformsTest\"\n",
    "$envProdname = \"TribalPlatformsProd\""
   ]
  },
  {
   "cell_type": "code",
   "execution_count": null,
   "metadata": {
    "dotnet_interactive": {
     "language": "pwsh"
    },
    "polyglot_notebook": {
     "kernelName": "pwsh"
    },
    "vscode": {
     "languageId": "polyglot-notebook"
    }
   },
   "outputs": [],
   "source": [
    "#When Running the Following Command,\n",
    "$devappoutput = & $filepath admin create-service-principal --environment 5cbaf1d3-452a-eef5-8c9a-aab4bb13ea11 --name \"$envDevName\"\n",
    "#$testappoutput = & $filepath admin create-service-principal --environment 525c0b3c-0479-e968-99ea-f35b0eb0bb10 --name \"$envTestname\"\n",
    "#$prodappoutput = & $filepath admin create-service-principal --environment f57c5ac1-343b-e8d3-991c-93c1f864cc09 --name \"$envProdname\"\n"
   ]
  },
  {
   "cell_type": "code",
   "execution_count": null,
   "metadata": {
    "dotnet_interactive": {
     "language": "pwsh"
    },
    "polyglot_notebook": {
     "kernelName": "pwsh"
    },
    "vscode": {
     "languageId": "polyglot-notebook"
    }
   },
   "outputs": [],
   "source": [
    "$testappoutput \n"
   ]
  },
  {
   "cell_type": "markdown",
   "metadata": {},
   "source": [
    "## Add Application User to Test & Prod Environments"
   ]
  },
  {
   "cell_type": "code",
   "execution_count": null,
   "metadata": {
    "dotnet_interactive": {
     "language": "pwsh"
    },
    "polyglot_notebook": {
     "kernelName": "pwsh"
    },
    "vscode": {
     "languageId": "polyglot-notebook"
    }
   },
   "outputs": [],
   "source": [
    "#Assign Application User to Test & Production Environments\n",
    "# Add to Test Environment\n",
    "& $filepath admin assign-user --environment 3e93e67d-f6b9-e397-bc09-1494d1d4c508 `\n",
    "--user 0750adf9-b3e4-40b8-a952-f7c6aabce73a --role \"System Administrator\" --application-user"
   ]
  },
  {
   "cell_type": "code",
   "execution_count": null,
   "metadata": {
    "dotnet_interactive": {
     "language": "pwsh"
    },
    "polyglot_notebook": {
     "kernelName": "pwsh"
    },
    "vscode": {
     "languageId": "polyglot-notebook"
    }
   },
   "outputs": [],
   "source": [
    "#Command to list Power Platform Environments\n",
    "& $filepath admin list"
   ]
  },
  {
   "cell_type": "markdown",
   "metadata": {},
   "source": [
    "# Retrive Application List\n",
    "`pac admin application list`\n"
   ]
  },
  {
   "cell_type": "code",
   "execution_count": null,
   "metadata": {
    "dotnet_interactive": {
     "language": "pwsh"
    },
    "polyglot_notebook": {
     "kernelName": "pwsh"
    },
    "vscode": {
     "languageId": "polyglot-notebook"
    }
   },
   "outputs": [],
   "source": [
    "& $filepath admin application list"
   ]
  },
  {
   "cell_type": "code",
   "execution_count": null,
   "metadata": {
    "dotnet_interactive": {
     "language": "pwsh"
    },
    "polyglot_notebook": {
     "kernelName": "pwsh"
    },
    "vscode": {
     "languageId": "polyglot-notebook"
    }
   },
   "outputs": [],
   "source": [
    "# Run the PAC admin list command and capture the output\n",
    "$environments = & $filepath admin list \n",
    "\n",
    "# Check if the environment exists\n",
    "$envExists = $false\n",
    "foreach ($env in $environments) {\n",
    "    if ($env.environmentName -eq $envDevName) {\n",
    "        $envExists = $true\n",
    "        break\n",
    "    }\n",
    "}\n",
    "\n",
    "# Conditionally create the service principal\n",
    "if (-not $envExists) {\n",
    "    & $filepath admin create-service-principal --environment ce88dc5a-896b-e0ac-9ed7-6c4d6850f30f --name $envDevName\n",
    "    Write-Output \"Service principal created for environment: $envDevName\"\n",
    "} else {\n",
    "    Write-Output \"Environment with name $envDevName already exists. Service principal creation skipped.\"\n",
    "}\n",
    "\n",
    "\n",
    "# Run the command and capture the output\n",
    "$output = & $filepath admin create-service-principal --environment ce88dc5a-896b-e0ac-9ed7-6c4d6850f30f --name \"Automated Deployment\"\n",
    "\n",
    "# Split the output into lines\n",
    "$outputLines = $output -split \"`r?`n\"\n",
    "\n",
    "# Initialize the variable to store the System User Id\n",
    "$systemUserId = $null\n",
    "\n",
    "# Loop through the lines to find the one containing \"System User Id\" and extract the value\n",
    "foreach ($line in $outputLines) {\n",
    "    if ($line -match \"System User Id\\s+(\\S{8}-\\S{4}-\\S{4}-\\S{4}-\\S{12})\") {\n",
    "        $systemUserId = $matches[1]\n",
    "        break\n",
    "    }\n",
    "}\n",
    "\n",
    "# Display the captured System User Id\n",
    "if ($systemUserId) {\n",
    "    Write-Output \"System User Id: $systemUserId\"\n",
    "} else {\n",
    "    Write-Output \"System User Id not found\"\n",
    "}\n",
    "\n"
   ]
  },
  {
   "cell_type": "code",
   "execution_count": null,
   "metadata": {
    "dotnet_interactive": {
     "language": "pwsh"
    },
    "polyglot_notebook": {
     "kernelName": "pwsh"
    },
    "vscode": {
     "languageId": "polyglot-notebook"
    }
   },
   "outputs": [],
   "source": [
    "$devappoutput"
   ]
  }
 ],
 "metadata": {
  "kernelspec": {
   "display_name": ".NET (C#)",
   "language": "C#",
   "name": ".net-csharp"
  },
  "language_info": {
   "name": "python"
  },
  "polyglot_notebook": {
   "kernelInfo": {
    "defaultKernelName": "csharp",
    "items": [
     {
      "aliases": [],
      "name": "csharp"
     }
    ]
   }
  }
 },
 "nbformat": 4,
 "nbformat_minor": 2
}
