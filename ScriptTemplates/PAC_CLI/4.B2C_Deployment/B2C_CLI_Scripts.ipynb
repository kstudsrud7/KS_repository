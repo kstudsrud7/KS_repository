{
 "cells": [
  {
   "cell_type": "markdown",
   "metadata": {},
   "source": [
    "# Automating Azure AD B2C creation with PowerShell Core\n",
    "[Link to Article](https://codez.deedx.cz/posts/automating-azure-ad-b2c-creation-with-powershell/)\n",
    "\n",
    "### B2C tenant creation and provisioning\n",
    "- [Full script can be found on GitHub](https://github.com/msimecek/AAD-automations/blob/main/b2c/Create-AzureB2C.ps1), this post walks through key parts of the solution and highlights some of the complications that were solved.\n",
    "\n",
    "The process is designed as a series of PowerShell functions which could work individually or as a chain. These are the steps:\n",
    "\n",
    "1. Create B2C tenant\n",
    "2. Sign in to Microsoft Graph PowerShell\n",
    "3. Create custom attribute\n",
    "4. Create user flows\n",
    "5. Create app registrations\n",
    "6. Assign Microsoft Graph access\n",
    "7. Grant admin consent\n",
    "8. Import users"
   ]
  },
  {
   "cell_type": "markdown",
   "metadata": {},
   "source": [
    "### Open Up [Azure Portal](https://portal.azure.com/) and Log Into Customer Environment\n",
    "1. Open Up Power Shell Command Line"
   ]
  },
  {
   "cell_type": "markdown",
   "metadata": {},
   "source": [
    "1. First ensure that the `Microsoft.AzureActiveDirectory` provider is registered. Run in CLI\n",
    "   1. Output of CLI Command: `registrationStat: Registered` (may take some time to run)\n",
    "2. Define Vairbles for PowerShell Script, if we are doing a Deployment for both TEST and PROD, this will need to be revised and re-run 2 times\n",
    "\n",
    "$AzureSubscriptionId - cfa79485-58c6-439c-95d6-5e2c86550350 # Power\n",
    "$AzureResourceGroup - TribalTest\n",
    "$B2CTenantName - TribalPlatformsTestB2C\n"
   ]
  }
 ],
 "metadata": {
  "kernelspec": {
   "display_name": ".NET (C#)",
   "language": "C#",
   "name": ".net-csharp"
  },
  "language_info": {
   "name": "python"
  },
  "polyglot_notebook": {
   "kernelInfo": {
    "defaultKernelName": "csharp",
    "items": [
     {
      "aliases": [],
      "name": "csharp"
     }
    ]
   }
  }
 },
 "nbformat": 4,
 "nbformat_minor": 2
}
