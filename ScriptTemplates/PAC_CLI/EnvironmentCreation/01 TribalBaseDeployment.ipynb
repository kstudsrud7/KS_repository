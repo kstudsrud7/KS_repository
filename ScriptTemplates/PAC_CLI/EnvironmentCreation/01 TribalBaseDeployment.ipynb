{
 "cells": [
  {
   "cell_type": "markdown",
   "metadata": {},
   "source": [
    "# Installation Instructions\n",
    "Step 1 [Install Power Platform CLI using Windows MSI](https://learn.microsoft.com/en-us/power-platform/developer/howto/install-cli-msi)\n",
    "\n",
    "    string name = \"keaton\""
   ]
  },
  {
   "cell_type": "code",
   "execution_count": null,
   "metadata": {
    "dotnet_interactive": {
     "language": "pwsh"
    },
    "polyglot_notebook": {
     "kernelName": "pwsh"
    },
    "vscode": {
     "languageId": "polyglot-notebook"
    }
   },
   "outputs": [],
   "source": [
    "$filepath = \"C:\\Users\\kstudsrud\\AppData\\Local\\Microsoft\\PowerAppsCLI\\pac.cmd\"\n",
    "# Here we are defining the path where CLI is installed on laptop with a PowerShell variable"
   ]
  },
  {
   "cell_type": "code",
   "execution_count": null,
   "metadata": {
    "dotnet_interactive": {
     "language": "pwsh"
    },
    "polyglot_notebook": {
     "kernelName": "pwsh"
    },
    "vscode": {
     "languageId": "polyglot-notebook"
    }
   },
   "outputs": [],
   "source": [
    "# Retrieving all of your Authorizing profiles, should have 1 for each customer / project\n",
    "& $filepath auth list\n"
   ]
  },
  {
   "cell_type": "code",
   "execution_count": null,
   "metadata": {
    "dotnet_interactive": {
     "language": "pwsh"
    },
    "polyglot_notebook": {
     "kernelName": "pwsh"
    },
    "vscode": {
     "languageId": "polyglot-notebook"
    }
   },
   "outputs": [],
   "source": [
    "#selection of the Auth profile / tenant that will be used for provisioing\n",
    "& $filepath auth select --index 7\n"
   ]
  },
  {
   "cell_type": "markdown",
   "metadata": {},
   "source": [
    "# Create Power Apps Environments (Dev,Test, Prod)\n",
    "## Define Environment Details\n",
    "1. "
   ]
  },
  {
   "cell_type": "code",
   "execution_count": null,
   "metadata": {
    "dotnet_interactive": {
     "language": "pwsh"
    },
    "polyglot_notebook": {
     "kernelName": "pwsh"
    },
    "vscode": {
     "languageId": "polyglot-notebook"
    }
   },
   "outputs": [],
   "source": [
    "#Environment Details\n",
    "$region = \"unitedstates\"\n",
    "\n",
    "#DevDetails\n",
    "$devurl = \"aitdev\" #Include Prefix in URL\n",
    "$devname = \"AITDEV\" #Include Prefix in URL, ALL CAPS\n",
    "#Test Details\n",
    "$testurl = \"aittest\" #Include Prefix in URL\n",
    "$testname = \"AITTEST\" #Include Prefix in URL, ALL CAPS\n",
    "\n",
    "#Prod Details\n",
    "$produrl = \"ait\" #DO NOT Include Prefix in URL \"ex. www.ait.crm.dynamics.com\"\n",
    "$prodname = \"AITPROD\" #DO NOT Include Prefix in URL, ALL CAPS\n"
   ]
  },
  {
   "cell_type": "code",
   "execution_count": 149,
   "metadata": {
    "dotnet_interactive": {
     "language": "pwsh"
    },
    "polyglot_notebook": {
     "kernelName": "pwsh"
    },
    "vscode": {
     "languageId": "polyglot-notebook"
    }
   },
   "outputs": [
    {
     "ename": "Error",
     "evalue": "Command cancelled.",
     "output_type": "error",
     "traceback": [
      "Command cancelled."
     ]
    }
   ],
   "source": [
    "#Creation of all Customer Dataverse Environments\n",
    "#Environment types will be set to Sandbox unless Production Environment\n",
    "& $filepath admin create --name \"$devname\" --type \"Developer\" --prefix \"$devurl\" --region \"$region\"\n",
    "& $filepath admin create --name \"$testname\" --type \"Developer\" --prefix \"$testurl\" --region \"$region\"\n",
    "& $filepath admin create --name \"$prodname\" --type \"Developer\" --prefix \"$produrl\" --region \"$region\"\n"
   ]
  },
  {
   "cell_type": "code",
   "execution_count": 157,
   "metadata": {
    "dotnet_interactive": {
     "language": "pwsh"
    },
    "polyglot_notebook": {
     "kernelName": "pwsh"
    },
    "vscode": {
     "languageId": "polyglot-notebook"
    }
   },
   "outputs": [
    {
     "name": "stdout",
     "output_type": "stream",
     "text": [
      "Connected as admin@stokesoftwaresolutions.com\n",
      "Connected to... P5 Exteriors DEV\n",
      "\n",
      "Listing all Solutions from the current Dataverse organization...\n",
      "Unique Name      Friendly Name                         Version Managed\n",
      "Crf5ad3          Common Data Services Default Solution 1.0.0.0 False\n",
      "Default          Default Solution                      1.0     False\n",
      "StokeRoofingBase Stoke Roofing - Base                  1.0.0.0 False\n",
      "\n"
     ]
    }
   ],
   "source": [
    "#Retrivve Dataverse Solutions\n",
    "& $filepath solution list --environment https://p5dev.crm.dynamics.com/"
   ]
  },
  {
   "cell_type": "markdown",
   "metadata": {},
   "source": []
  },
  {
   "cell_type": "markdown",
   "metadata": {},
   "source": [
    "# Steps To Delete\n",
    "1. List Environments\n",
    "2. Run command to delete by ID"
   ]
  },
  {
   "cell_type": "code",
   "execution_count": 155,
   "metadata": {
    "dotnet_interactive": {
     "language": "pwsh"
    },
    "polyglot_notebook": {
     "kernelName": "pwsh"
    },
    "vscode": {
     "languageId": "polyglot-notebook"
    }
   },
   "outputs": [
    {
     "name": "stdout",
     "output_type": "stream",
     "text": [
      "Connected as admin@stokesoftwaresolutions.com\n",
      "\n",
      "Listing all environments from your tenant...\n",
      "Active Environment      Environment ID                       Environment Url                       Type      Organization ID\n",
      "       P5 Exteriors DEV ce88dc5a-896b-e0ac-9ed7-6c4d6850f30f https://p5dev.crm.dynamics.com/       Developer ffb99d38-100a-ef11-9f85-000d3a106528\n",
      "*      Portal DEV       3e93e67d-f6b9-e397-bc09-1494d1d4c508 https://portaldevks.crm.dynamics.com/ Developer 045346fd-2a11-ef11-9f83-000d3a342d0e\n",
      "       Stoke - DEV      be10596b-0958-e019-bc24-87318c7b1305 https://stokedev.crm.dynamics.com/    Developer 70b1f600-03f1-ee11-a1fa-6045bd01661b\n",
      "\n"
     ]
    }
   ],
   "source": [
    "#Command to list Power Platform Environments\n",
    "& $filepath admin list"
   ]
  },
  {
   "cell_type": "code",
   "execution_count": null,
   "metadata": {
    "dotnet_interactive": {
     "language": "pwsh"
    },
    "polyglot_notebook": {
     "kernelName": "pwsh"
    },
    "vscode": {
     "languageId": "polyglot-notebook"
    }
   },
   "outputs": [],
   "source": [
    "#Select the ID / URL from step 1 to delete\n",
    "& $filepath admin delete --environment ace68a68-a4ea-e5a2-8434-4918c8c9d309\n"
   ]
  }
 ],
 "metadata": {
  "kernelspec": {
   "display_name": ".NET (C#)",
   "language": "C#",
   "name": ".net-csharp"
  },
  "language_info": {
   "name": "python"
  },
  "polyglot_notebook": {
   "kernelInfo": {
    "defaultKernelName": "csharp",
    "items": [
     {
      "aliases": [],
      "name": "csharp"
     }
    ]
   }
  }
 },
 "nbformat": 4,
 "nbformat_minor": 2
}
