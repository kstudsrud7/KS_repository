{
 "cells": [
  {
   "cell_type": "markdown",
   "metadata": {},
   "source": [
    "# Migrate Existing Sites to Bootstrap Version 5\n",
    "\n",
    "## Prerequisites\n",
    "- Install Microsoft Power Platform CLI version 1.28.2 or later.\n",
    "- Ensure the \".svg\" extension is allowed in your Power Platform environment.\n",
    "\n",
    "## Steps\n",
    "\n",
    "### 1. Download the Website Folder\n",
    "```sh\n",
    "pac auth create -u [Dataverse URL]\n",
    "pac powerpages list\n",
    "pac powerpages download --path [PATH] -id [WebSiteId-GUID]\n",
    "```\n",
    "\n",
    "### 2. Run the Migration Tool\n",
    "```sh\n",
    "pac powerpages bootstrap-migrate -p \"WebsiteFolderPath\"\n",
    "```\n",
    "\n",
    "### 3. Review Your Changes\n",
    "- Compare the version 3 and version 5 files using Visual Studio Code.\n",
    "\n",
    "### 4. Upload the Migrated Website Record\n",
    "```sh\n",
    "pac powerpages upload --path [Folder-location]\n",
    "```\n",
    "\n",
    "### 5. Clear the Server-Side Cache\n",
    "- Clear the cache for metadata/configuration and data tables.\n",
    "```\n",
    "\n",
    "Feel free to copy and use this Markdown file for your migration steps! If you need any further assistance, just let me know.\n"
   ]
  }
 ],
 "metadata": {
  "kernelspec": {
   "display_name": ".NET (C#)",
   "language": "C#",
   "name": ".net-csharp"
  },
  "language_info": {
   "name": "python"
  },
  "polyglot_notebook": {
   "kernelInfo": {
    "defaultKernelName": "csharp",
    "items": [
     {
      "aliases": [],
      "name": "csharp"
     }
    ]
   }
  }
 },
 "nbformat": 4,
 "nbformat_minor": 2
}
