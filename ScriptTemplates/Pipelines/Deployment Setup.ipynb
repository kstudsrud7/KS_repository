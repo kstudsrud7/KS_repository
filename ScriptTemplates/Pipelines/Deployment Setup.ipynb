{
 "cells": [
  {
   "cell_type": "markdown",
   "metadata": {},
   "source": [
    "https://swimburger.net/blog/dynamics/how-to-deploy-power-apps-solutions-using-azure-pipelines\n",
    "\n",
    "Azure Active Directory Setup: Register a new app in Azure Active Directory, note the Application (client) ID and Directory (tenant) ID, and configure API permissions and client secrets.\n",
    "\n",
    "Power Platform Admin Center: Create a new application user in the Power Platform admin center and assign the necessary roles.\n",
    "\n",
    "Azure DevOps Configuration: Install the Power Platform Build Tools extension, create a new service connection, and set up a pipeline with the provided YAML code.\n",
    "\n",
    "Pipeline Execution: Run the pipeline to verify the connection and add tasks for packing, publishing, and importing solutions.\n",
    "\n",
    "TEST\n"
   ]
  }
 ],
 "metadata": {
  "kernelspec": {
   "display_name": ".NET (C#)",
   "language": "C#",
   "name": ".net-csharp"
  },
  "language_info": {
   "name": "python"
  },
  "polyglot_notebook": {
   "kernelInfo": {
    "defaultKernelName": "csharp",
    "items": [
     {
      "aliases": [],
      "name": "csharp"
     }
    ]
   }
  }
 },
 "nbformat": 4,
 "nbformat_minor": 2
}
