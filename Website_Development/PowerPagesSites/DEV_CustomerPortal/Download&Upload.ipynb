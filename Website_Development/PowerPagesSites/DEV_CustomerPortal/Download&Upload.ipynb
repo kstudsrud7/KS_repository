{
 "cells": [
  {
   "cell_type": "markdown",
   "metadata": {},
   "source": [
    "# Portal Download Terminal\n",
    "\n",
    "1. List all authenticated environments:\n",
    "    ```sh\n",
    "    pac auth list\n",
    "    ```\n",
    "2. Select the desired environment:\n",
    "    ```sh\n",
    "    pac auth select\n",
    "    ```\n",
    "3. Provide the Environment ID:\n",
    "    ```sh\n",
    "    # Replace with your actual Environment ID\n",
    "    $ENVIRONMENT_ID=\"5cbaf1d3-452a-eef5-8c9a-aab4bb13ea11\"\n",
    "    ```\n",
    "4. Provide the Website ID:\n",
    "    ```sh\n",
    "    # Replace with your actual Website ID\n",
    "    $WEBSITE_ID=\"0ec90d17-bc09-4cdb-a99a-d51db6722580\"\n",
    "    ```\n",
    "5. Specify the path to download:\n",
    "    ```sh\n",
    "    # Replace with your actual path\n",
    "    $DOWNLOAD_PATH=\"C:\\Users\\Admin\\repos\\KS_repository\\Website_Development\\PowerPagesSites\\DEV_CustomerPortal\"\n",
    "    ```\n",
    "6. Run the download command:\n",
    "    ```sh\n",
    "    pac paportal download --modelVersion 2 --path \"$DOWNLOAD_PATH\" --webSiteID \"$WEBSITE_ID\" --environment \"$ENVIRONMENT_ID\" -o\n",
    "    ```"
   ]
  },
  {
   "cell_type": "markdown",
   "metadata": {},
   "source": [
    "Pac Portal Upload\n",
    "\n",
    "$UploadPath= \"C:\\Users\\Admin\\repos\\KS_repository\\Website_Development\\PowerPagesSites\\DEV_CustomerPortal\\customer-portal---stokecustomerportaldev\"\n",
    "\n",
    "pac paportal upload --modelVersion 2 --path \"$UploadPath\" --environment \"$ENVIRONMENT_ID\" "
   ]
  },
  {
   "cell_type": "code",
   "execution_count": null,
   "metadata": {
    "vscode": {
     "languageId": "polyglot-notebook"
    }
   },
   "outputs": [],
   "source": []
  }
 ],
 "metadata": {
  "kernelspec": {
   "display_name": ".NET (C#)",
   "language": "C#",
   "name": ".net-csharp"
  },
  "language_info": {
   "name": "python"
  },
  "polyglot_notebook": {
   "kernelInfo": {
    "defaultKernelName": "csharp",
    "items": [
     {
      "aliases": [],
      "name": "csharp"
     }
    ]
   }
  }
 },
 "nbformat": 4,
 "nbformat_minor": 2
}
