{
 "cells": [
  {
   "cell_type": "code",
   "execution_count": null,
   "metadata": {
    "dotnet_interactive": {
     "language": "pwsh"
    },
    "polyglot_notebook": {
     "kernelName": "pwsh"
    },
    "vscode": {
     "languageId": "polyglot-notebook"
    }
   },
   "outputs": [],
   "source": [
    "Portal Download\n",
    "    $ENVIRONMENT_ID=\"5cbaf1d3-452a-eef5-8c9a-aab4bb13ea11\";\n",
    "    $WEBSITE_ID=\"0ec90d17-bc09-4cdb-a99a-d51db6722580\";\n",
    "    $DOWNLOAD_PATH=\"C:\\Users\\Admin\\repos\\KS_repository\\Website_Development\\PowerPagesSites\\DEV_CustomerPortal\";\n",
    "    pac paportal download --modelVersion 2 --path \"$DOWNLOAD_PATH\" --webSiteID \"$WEBSITE_ID\" --environment \"$ENVIRONMENT_ID\" -o\n",
    "\n"
   ]
  },
  {
   "cell_type": "code",
   "execution_count": null,
   "metadata": {
    "dotnet_interactive": {
     "language": "pwsh"
    },
    "polyglot_notebook": {
     "kernelName": "pwsh"
    },
    "vscode": {
     "languageId": "polyglot-notebook"
    }
   },
   "outputs": [],
   "source": [
    "Pac Portal Upload\n",
    "$ENVIRONMENT_ID=\"5cbaf1d3-452a-eef5-8c9a-aab4bb13ea11\";\n",
    "$UploadPath= \"C:\\Users\\Admin\\repos\\KS_repository\\Website_Development\\PowerPagesSites\\DEV_CustomerPortal\\customer-portal---stokecustomerportaldev\";\n",
    "\n",
    "pac paportal upload --modelVersion 2 --path \"$UploadPath\" --environment \"$ENVIRONMENT_ID\" "
   ]
  },
  {
   "cell_type": "code",
   "execution_count": null,
   "metadata": {
    "dotnet_interactive": {
     "language": "csharp"
    },
    "polyglot_notebook": {
     "kernelName": "csharp"
    },
    "vscode": {
     "languageId": "polyglot-notebook"
    }
   },
   "outputs": [],
   "source": []
  }
 ],
 "metadata": {
  "kernelspec": {
   "display_name": ".NET (C#)",
   "language": "C#",
   "name": ".net-csharp"
  },
  "language_info": {
   "name": "python"
  },
  "polyglot_notebook": {
   "kernelInfo": {
    "defaultKernelName": "csharp",
    "items": [
     {
      "aliases": [],
      "name": "csharp"
     }
    ]
   }
  }
 },
 "nbformat": 4,
 "nbformat_minor": 2
}
