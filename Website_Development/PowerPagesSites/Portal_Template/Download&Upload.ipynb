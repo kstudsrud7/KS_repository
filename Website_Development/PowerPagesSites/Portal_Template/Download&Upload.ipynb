{
 "cells": [
  {
   "cell_type": "code",
   "execution_count": 2,
   "metadata": {
    "dotnet_interactive": {
     "language": "pwsh"
    },
    "polyglot_notebook": {
     "kernelName": "pwsh"
    },
    "vscode": {
     "languageId": "polyglot-notebook"
    }
   },
   "outputs": [
    {
     "name": "stdout",
     "output_type": "stream",
     "text": [
      "Connected as kstudsrud@stokesoftwaresolutions.com\n",
      "\n",
      "\n",
      "Information:\n",
      "Be careful when you're updating public sites. The changes you make are visible to anyone immediately. To check site visibility go to https://make.powerpages.microsoft.com/.\n",
      "To get additional information, please visit https://go.microsoft.com/fwlink/?linkid=2204350\n",
      "\n",
      "\n",
      "Started downloading website 08bbf264-9096-4076-8e53-af9e590ad8e6\n",
      "Connected to... DEV\n",
      "Downloading - webfiles\n",
      "Downloading - powerpagecomponent\n",
      "Downloading - powerpagesitelanguage\n",
      "Downloading - powerpagesite\n",
      "Downloaded - powerpagesitelanguage\n",
      "Downloaded - powerpagecomponent\n",
      "Downloaded - powerpagesite\n",
      "Downloaded - webfiles\n",
      "Processing - website\n",
      "Processing - publishingstate\n",
      "Processing - pagetemplate\n",
      "Processing - webrole\n",
      "Processing - botconsumer\n",
      "Processing - portallanguage\n",
      "Processing - websiteaccess\n",
      "Processing - webtemplate\n",
      "Processing - websitelanguage\n",
      "Processing - webfile\n",
      "Processing - sitemarker\n",
      "Processing - sitesetting\n",
      "Processing - webpageaccesscontrolrule\n",
      "Processing - webpage\n",
      "Processing - weblinkset\n",
      "Processing - contentsnippet\n",
      "Processing - annotation\n",
      "Processing - weblink\n",
      "Updating manifest...\n",
      "Manifest updated successfully.\n",
      "Power Pages website download succeeded in 8.216941 secs.\n"
     ]
    }
   ],
   "source": [
    "#Portal Download\n",
    "    $ENVIRONMENT_ID=\"5cbaf1d3-452a-eef5-8c9a-aab4bb13ea11\";\n",
    "    $WEBSITE_ID=\"08bbf264-9096-4076-8e53-af9e590ad8e6\";\n",
    "    $DOWNLOAD_PATH=\"C:\\Users\\Admin\\repos\\KS_repository\\Website_Development\\PowerPagesSites\\DEV_CustomerPortal\";\n",
    "    pac paportal download --modelVersion 2 --path \"$DOWNLOAD_PATH\" --webSiteID \"$WEBSITE_ID\" --environment \"$ENVIRONMENT_ID\" -o\n",
    "\n"
   ]
  },
  {
   "cell_type": "code",
   "execution_count": 8,
   "metadata": {
    "dotnet_interactive": {
     "language": "pwsh"
    },
    "polyglot_notebook": {
     "kernelName": "pwsh"
    },
    "vscode": {
     "languageId": "polyglot-notebook"
    }
   },
   "outputs": [
    {
     "name": "stdout",
     "output_type": "stream",
     "text": [
      "Connected as kstudsrud@stokesoftwaresolutions.com\n",
      "\n",
      "\n",
      "Information:\n",
      "Be careful when you're updating public sites. The changes you make are visible to anyone immediately. To check site visibility go to https://make.powerpages.microsoft.com/.\n",
      "To get additional information, please visit https://go.microsoft.com/fwlink/?linkid=2204350\n",
      "\n",
      "\n",
      "Started uploading website data\n",
      "Connected to... DEV\n",
      "\n",
      "Loading Power Pages website manifest...\n",
      "\n",
      "Manifest loaded successfully.\n",
      "\n",
      "XRM Network error: The entity with a name = 'adx_webpage' with namemapping = 'Logical' was not found in the MetadataCache. MetadataCacheDetails: ProviderType=Dynamic, StandardCache=True, IsLoadedInStagedContext = False, Timestamp=2877888, MinActiveRowVersion=2877888, MetadataInstanceId=38703802, LastUpdated=2024-11-01 06:58:59.070, OrgId=e05a79cb-d52e-ef11-8e4b-002248282f27\n",
      "\n",
      "XRM Network error: The entity with a name = 'adx_webpage' with namemapping = 'Logical' was not found in the MetadataCache. MetadataCacheDetails: ProviderType=Dynamic, StandardCache=True, IsLoadedInStagedContext = False, Timestamp=2877888, MinActiveRowVersion=2877888, MetadataInstanceId=38703802, LastUpdated=2024-11-01 06:58:59.070, OrgId=e05a79cb-d52e-ef11-8e4b-002248282f27\n",
      "\n",
      "Updated record(s) for table: adx_webpage\n",
      "\n",
      "XRM Network error: The entity with a name = 'adx_webfile' with namemapping = 'Logical' was not found in the MetadataCache. MetadataCacheDetails: ProviderType=Dynamic, StandardCache=True, IsLoadedInStagedContext = False, Timestamp=2877888, MinActiveRowVersion=2877888, MetadataInstanceId=38703802, LastUpdated=2024-11-01 06:58:59.070, OrgId=e05a79cb-d52e-ef11-8e4b-002248282f27\n",
      "\n",
      "Updated record(s) for table: adx_webfile\n",
      "\n",
      "XRM Network error: The entity with a name = 'adx_contentsnippet' with namemapping = 'Logical' was not found in the MetadataCache. MetadataCacheDetails: ProviderType=Dynamic, StandardCache=True, IsLoadedInStagedContext = False, Timestamp=2877888, MinActiveRowVersion=2877888, MetadataInstanceId=38703802, LastUpdated=2024-11-01 06:58:59.070, OrgId=e05a79cb-d52e-ef11-8e4b-002248282f27\n",
      "\n",
      "XRM Network error: The entity with a name = 'adx_contentsnippet' with namemapping = 'Logical' was not found in the MetadataCache. MetadataCacheDetails: ProviderType=Dynamic, StandardCache=True, IsLoadedInStagedContext = False, Timestamp=2877888, MinActiveRowVersion=2877888, MetadataInstanceId=38703802, LastUpdated=2024-11-01 06:58:59.070, OrgId=e05a79cb-d52e-ef11-8e4b-002248282f27\n",
      "\n",
      "XRM Network error: The entity with a name = 'adx_contentsnippet' with namemapping = 'Logical' was not found in the MetadataCache. MetadataCacheDetails: ProviderType=Dynamic, StandardCache=True, IsLoadedInStagedContext = False, Timestamp=2877888, MinActiveRowVersion=2877888, MetadataInstanceId=38703802, LastUpdated=2024-11-01 06:58:59.070, OrgId=e05a79cb-d52e-ef11-8e4b-002248282f27\n",
      "\n",
      "Updated record(s) for table: adx_contentsnippet\n",
      "\n",
      "Updated record(s) for table: annotation\n",
      "\n",
      "XRM Network error: The entity with a name = 'adx_webtemplate' with namemapping = 'Logical' was not found in the MetadataCache. MetadataCacheDetails: ProviderType=Dynamic, StandardCache=True, IsLoadedInStagedContext = False, Timestamp=2877888, MinActiveRowVersion=2877888, MetadataInstanceId=38703802, LastUpdated=2024-11-01 06:58:59.070, OrgId=e05a79cb-d52e-ef11-8e4b-002248282f27\n",
      "\n",
      "Updated record(s) for table: powerpagecomponent [webtemplate]\n",
      "\n",
      "Updated record(s) for table: adx_webtemplate\n",
      "\n",
      "Power Pages website upload succeeded in 3.54 secs.\n"
     ]
    }
   ],
   "source": [
    "# Pac Portal Upload\n",
    "$ENVIRONMENT_ID=\"5cbaf1d3-452a-eef5-8c9a-aab4bb13ea11\";\n",
    "$UploadPath= \"C:\\Users\\Admin\\repos\\KS_repository\\Website_Development\\PowerPagesSites\\DEV_CustomerPortal\\customer-portal---stokecustomerportaldev\";\n",
    "\n",
    "pac paportal upload --modelVersion 2 --path \"$UploadPath\" --environment \"$ENVIRONMENT_ID\" "
   ]
  },
  {
   "cell_type": "code",
   "execution_count": null,
   "metadata": {
    "dotnet_interactive": {
     "language": "csharp"
    },
    "polyglot_notebook": {
     "kernelName": "csharp"
    },
    "vscode": {
     "languageId": "polyglot-notebook"
    }
   },
   "outputs": [],
   "source": []
  }
 ],
 "metadata": {
  "kernelspec": {
   "display_name": ".NET (C#)",
   "language": "C#",
   "name": ".net-csharp"
  },
  "language_info": {
   "name": "python"
  },
  "polyglot_notebook": {
   "kernelInfo": {
    "defaultKernelName": "csharp",
    "items": [
     {
      "aliases": [],
      "name": "csharp"
     }
    ]
   }
  }
 },
 "nbformat": 4,
 "nbformat_minor": 2
}
