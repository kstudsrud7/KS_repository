{
 "cells": [
  {
   "cell_type": "code",
   "execution_count": null,
   "metadata": {
    "dotnet_interactive": {
     "language": "pwsh"
    },
    "polyglot_notebook": {
     "kernelName": "pwsh"
    },
    "vscode": {
     "languageId": "polyglot-notebook"
    }
   },
   "outputs": [],
   "source": [
    "#Portal Download\n",
    "    $ENVIRONMENT_ID=\"769bb5bd-7c93-ed71-bf71-2f6ea3451a1b\";\n",
    "    $WEBSITE_ID=\"f46b70cc-580b-4f1a-87c3-41deb48eb90d\";\n",
    "    $DOWNLOAD_PATH=\"C:\\Users\\kstudsrud\\source\\repos\\Website_Development\\PowerPagesSites\\Tribal_Education\";\n",
    "    pac paportal download --modelVersion 2 --path \"$DOWNLOAD_PATH\" --webSiteID \"$WEBSITE_ID\" --environment \"$ENVIRONMENT_ID\" -o\n",
    "\n"
   ]
  },
  {
   "cell_type": "code",
   "execution_count": null,
   "metadata": {
    "dotnet_interactive": {
     "language": "pwsh"
    },
    "polyglot_notebook": {
     "kernelName": "pwsh"
    },
    "vscode": {
     "languageId": "polyglot-notebook"
    }
   },
   "outputs": [],
   "source": [
    "# Pac Portal Upload\n",
    "$ENVIRONMENT_ID=\"769bb5bd-7c93-ed71-bf71-2f6ea3451a1b\";\n",
    "$UploadPath= \"C:\\Users\\kstudsrud\\source\\repos\\Website_Development\\PowerPagesSites\\Tribal_Education\\tribal-platforms\";\n",
    "\n",
    "pac paportal upload --modelVersion 2 --path \"$UploadPath\" --environment \"$ENVIRONMENT_ID\" "
   ]
  },
  {
   "cell_type": "code",
   "execution_count": null,
   "metadata": {
    "vscode": {
     "languageId": "polyglot-notebook"
    }
   },
   "outputs": [],
   "source": [
    "# Migrate Bootsrap code to 5\n",
    "pac powerpages bootstrap-migrate -p C:\\Users\\kstudsrud\\source\\repos\\Website_Development\\PowerPagesSites\\Tribal_Education\\tribal-platforms\n",
    "\n",
    "pac powerpages upload --path C:\\Users\\kstudsrud\\source\\repos\\Website_Development\\PowerPagesSites\\Tribal_Education\\tribal-platformsV5"
   ]
  }
 ],
 "metadata": {
  "kernelspec": {
   "display_name": ".NET (C#)",
   "language": "C#",
   "name": ".net-csharp"
  },
  "language_info": {
   "name": "python"
  },
  "polyglot_notebook": {
   "kernelInfo": {
    "defaultKernelName": "csharp",
    "items": [
     {
      "aliases": [],
      "name": "csharp"
     }
    ]
   }
  }
 },
 "nbformat": 4,
 "nbformat_minor": 2
}
